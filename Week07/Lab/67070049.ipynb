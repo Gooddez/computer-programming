{
 "cells": [
  {
   "cell_type": "markdown",
   "id": "41ac842f",
   "metadata": {},
   "source": [
    "# Numpy exercises"
   ]
  },
  {
   "cell_type": "markdown",
   "id": "37e1aa47",
   "metadata": {},
   "source": [
    "1. นำเข้า numpy package และตั้งชื่อว่า np "
   ]
  },
  {
   "cell_type": "code",
   "execution_count": 1,
   "id": "19255285",
   "metadata": {},
   "outputs": [],
   "source": [
    "import numpy as np"
   ]
  },
  {
   "cell_type": "markdown",
   "id": "cad94d82",
   "metadata": {},
   "source": [
    "2. สร้าง vector ที่มีค่า 0 ขนาดความยาว 10 หน่วย"
   ]
  },
  {
   "cell_type": "code",
   "execution_count": 2,
   "id": "0cce93ef",
   "metadata": {},
   "outputs": [
    {
     "name": "stdout",
     "output_type": "stream",
     "text": [
      "[0 0 0 0 0 0 0 0 0 0]\n"
     ]
    }
   ],
   "source": [
    "v1 = np.zeros(10, dtype=int)\n",
    "print(v1)"
   ]
  },
  {
   "cell_type": "markdown",
   "id": "8473381f",
   "metadata": {},
   "source": [
    "3. สร้าง vector ที่มีค่า 0 ขนาดความยาว 10 หน่วย และกำหนดให้สมาชิกตัวที่ 5 มีค่าเท่ากับ 1"
   ]
  },
  {
   "cell_type": "code",
   "execution_count": 3,
   "id": "b3d25e87",
   "metadata": {},
   "outputs": [
    {
     "name": "stdout",
     "output_type": "stream",
     "text": [
      "[0 0 0 0 5 0 0 0 0 0]\n"
     ]
    }
   ],
   "source": [
    "v1[4] = 5\n",
    "print(v1)"
   ]
  },
  {
   "cell_type": "markdown",
   "id": "5b1f9e9f",
   "metadata": {},
   "source": [
    "4. สร้าง vector เก็บค่าตัวเลขตั้งแต่ 12-51"
   ]
  },
  {
   "cell_type": "code",
   "execution_count": 4,
   "id": "1f217b8d",
   "metadata": {},
   "outputs": [
    {
     "name": "stdout",
     "output_type": "stream",
     "text": [
      "[12 13 14 15 16 17 18 19 20 21 22 23 24 25 26 27 28 29 30 31 32 33 34 35\n",
      " 36 37 38 39 40 41 42 43 44 45 46 47 48 49 50 51]\n"
     ]
    }
   ],
   "source": [
    "v2 = np.arange(12,52)\n",
    "print(v2)"
   ]
  },
  {
   "cell_type": "markdown",
   "id": "dda84f1d",
   "metadata": {},
   "source": [
    "5. ทำการสลับลำดับของสมาชิกภายใน vector ที่สร้างขึ้นจากข้อก่อนหน้า (สมาชิกตัวแรก เป็นตัวสุดท้าย ตามลำดับ)"
   ]
  },
  {
   "cell_type": "code",
   "execution_count": 5,
   "id": "4b024109",
   "metadata": {},
   "outputs": [
    {
     "name": "stdout",
     "output_type": "stream",
     "text": [
      "[51 50 49 48 47 46 45 44 43 42 41 40 39 38 37 36 35 34 33 32 31 30 29 28\n",
      " 27 26 25 24 23 22 21 20 19 18 17 16 15 14 13 12]\n"
     ]
    }
   ],
   "source": [
    "v2 = np.flip(v2)\n",
    "print(v2)"
   ]
  },
  {
   "cell_type": "markdown",
   "id": "57b6c853",
   "metadata": {},
   "source": [
    "6. สร้าง array ขนาด 3x3 ที่เก็บค่าตั้งแต่ 0-8"
   ]
  },
  {
   "cell_type": "code",
   "execution_count": 6,
   "id": "0f3bf810",
   "metadata": {},
   "outputs": [
    {
     "name": "stdout",
     "output_type": "stream",
     "text": [
      "[[0 1 2]\n",
      " [3 4 5]\n",
      " [6 7 8]]\n"
     ]
    }
   ],
   "source": [
    "v = np.arange(9)\n",
    "print(v.reshape(3,3))"
   ]
  },
  {
   "cell_type": "markdown",
   "id": "3e8264ae",
   "metadata": {},
   "source": [
    "7. จงหาตำแหน่ง (index) ของสมาชิกที่มีค่าเท่ากับ 0 ภายใน array [5,-8,0,0,2,0]"
   ]
  },
  {
   "cell_type": "code",
   "execution_count": 7,
   "id": "0b393682",
   "metadata": {},
   "outputs": [
    {
     "name": "stdout",
     "output_type": "stream",
     "text": [
      "[2, 3, 5]\n"
     ]
    }
   ],
   "source": [
    "v = np.array([5,-8,0,0,2,0])\n",
    "print([i for i,j in enumerate(v) if not j])"
   ]
  },
  {
   "cell_type": "markdown",
   "id": "4a4faf0e",
   "metadata": {},
   "source": [
    "8. จงสร้าง 3x3 identity matrix"
   ]
  },
  {
   "cell_type": "code",
   "execution_count": 8,
   "id": "30346ff1",
   "metadata": {},
   "outputs": [
    {
     "name": "stdout",
     "output_type": "stream",
     "text": [
      "[[1. 0. 0.]\n",
      " [0. 1. 0.]\n",
      " [0. 0. 1.]]\n"
     ]
    }
   ],
   "source": [
    "i = np.eye(3,3)\n",
    "print(i)"
   ]
  },
  {
   "cell_type": "markdown",
   "id": "4f95c0a5",
   "metadata": {},
   "source": [
    "9. จงสร้าง 3x3x3 array ของตัวเลขแบบสุ่ม"
   ]
  },
  {
   "cell_type": "code",
   "execution_count": 9,
   "id": "83082d05",
   "metadata": {},
   "outputs": [
    {
     "name": "stdout",
     "output_type": "stream",
     "text": [
      "[[[57 70 48]\n",
      "  [43 58 49]\n",
      "  [63 62 29]]\n",
      "\n",
      " [[56 90 66]\n",
      "  [38 14 10]\n",
      "  [25 31 85]]\n",
      "\n",
      " [[81 26 28]\n",
      "  [91 40 91]\n",
      "  [58 91 60]]]\n"
     ]
    }
   ],
   "source": [
    "v = np.random.randint(1,100,(3,3,3))\n",
    "print(v)"
   ]
  },
  {
   "cell_type": "markdown",
   "id": "217dd823",
   "metadata": {},
   "source": [
    "10. จงสร้าง array ขนาด 10x10 ของตัวเลขแบบสุ่ม และแสดงผลค่าตัวเลขที่มากที่สุดและน้อยที่สุดตามลำดับ"
   ]
  },
  {
   "cell_type": "code",
   "execution_count": 10,
   "id": "0f67e00e",
   "metadata": {},
   "outputs": [
    {
     "name": "stdout",
     "output_type": "stream",
     "text": [
      "[[21 26 51 71 72 85 95 97 98 99]\n",
      " [11 43 45 48 52 66 69 72 97 97]\n",
      " [ 1 30 39 39 39 53 54 84 90 93]\n",
      " [ 4 10 31 35 39 48 52 70 77 95]\n",
      " [30 32 33 46 51 70 75 77 93 95]\n",
      " [16 28 45 50 68 76 76 77 90 92]\n",
      " [ 4 16 26 30 60 60 71 73 85 99]\n",
      " [ 3  4  5  7 38 46 79 82 90 91]\n",
      " [ 2  7 29 33 68 73 76 80 90 97]\n",
      " [ 5 13 16 19 28 61 65 75 76 76]]\n"
     ]
    }
   ],
   "source": [
    "v = np.random.randint(1,100,(10,10))\n",
    "print(np.sort(v))"
   ]
  },
  {
   "cell_type": "markdown",
   "id": "334ceaae",
   "metadata": {},
   "source": [
    "11. สร้าง Vector ของตัวเลขแบบสุ่มที่มีความยาว 40 หน่วย และแสดงผลค่าเฉลี่ยของชุดตัวเลขดังกล่าว"
   ]
  },
  {
   "cell_type": "code",
   "execution_count": 11,
   "id": "6f4f592d",
   "metadata": {},
   "outputs": [
    {
     "name": "stdout",
     "output_type": "stream",
     "text": [
      "[ 3 80 61 95 56 36 94 54 63 94 39 68 75 64 27 26 59 32 20 16 13  4 31 96\n",
      " 79 74 84 55 28 30 99 44 40  2 45 85 92 76 34 41]\n",
      "52.85\n"
     ]
    }
   ],
   "source": [
    "v = np.random.randint(1,100,size=40)\n",
    "print(v)\n",
    "print(np.average(v))"
   ]
  },
  {
   "cell_type": "markdown",
   "id": "b7718546",
   "metadata": {},
   "source": [
    "12. สร้าง array ขนาด 5x5 โดยกำหนดตัวเลขบริเวณขอบมีค่าเท่ากับ 1 และตัวเลขอื่นๆ มีค่าเท่ากับ 0"
   ]
  },
  {
   "cell_type": "code",
   "execution_count": 12,
   "id": "1fa7a7c6",
   "metadata": {},
   "outputs": [
    {
     "name": "stdout",
     "output_type": "stream",
     "text": [
      "[[1 1 1 1 1]\n",
      " [1 0 0 0 1]\n",
      " [1 0 0 0 1]\n",
      " [1 0 0 0 1]\n",
      " [1 1 1 1 1]]\n"
     ]
    }
   ],
   "source": [
    "v = np.zeros((5,5),dtype=int)\n",
    "v[0::4,:] = 1\n",
    "v[:,0::4] = 1\n",
    "print(v)"
   ]
  },
  {
   "cell_type": "markdown",
   "id": "55a50273",
   "metadata": {},
   "source": [
    "13. เพิ่มขอบ (pad) ขนาด 1 หน่วยของ array จากข้อก่อนหน้า โดยกำหนดให้สมาชิกในขอบดังกล่าว มีค่าเท่ากับ 0"
   ]
  },
  {
   "cell_type": "code",
   "execution_count": 13,
   "id": "a4fd7ac8",
   "metadata": {},
   "outputs": [
    {
     "name": "stdout",
     "output_type": "stream",
     "text": [
      "[[0 0 0 0 0 0 0]\n",
      " [0 1 1 1 1 1 0]\n",
      " [0 1 0 0 0 1 0]\n",
      " [0 1 0 0 0 1 0]\n",
      " [0 1 0 0 0 1 0]\n",
      " [0 1 1 1 1 1 0]\n",
      " [0 0 0 0 0 0 0]]\n"
     ]
    }
   ],
   "source": [
    "v2 = np.pad(v,pad_width=1)\n",
    "print(v2)"
   ]
  },
  {
   "cell_type": "markdown",
   "id": "69169a85",
   "metadata": {},
   "source": [
    "14. สร้าง array ขนาด 5x5 โดยกำหนดให้สมาชิกในแนวทะแยงมีค่าเท่ากับ 1,2,3,4,5 และสมาชิกตำแหน่งอื่นๆ มีค่าเท่ากับ 0"
   ]
  },
  {
   "cell_type": "code",
   "execution_count": 14,
   "id": "1254cdb8",
   "metadata": {},
   "outputs": [
    {
     "name": "stdout",
     "output_type": "stream",
     "text": [
      "[[1 0 0 0 0]\n",
      " [0 2 0 0 0]\n",
      " [0 0 3 0 0]\n",
      " [0 0 0 4 0]\n",
      " [0 0 0 0 5]]\n"
     ]
    }
   ],
   "source": [
    "i = np.eye(5,5,dtype=int)\n",
    "new_mat = i*np.arange(1,6)\n",
    "print(new_mat)\n"
   ]
  },
  {
   "cell_type": "markdown",
   "id": "b6bba094",
   "metadata": {},
   "source": [
    "15. สร้างของตัวเลข array ขนาด 8x8 โดยกำหนดให้สมาชิกใน array มีค่าเท่ากับ 0 และ 1 สลับกันไป (Checkboard pattern)"
   ]
  },
  {
   "cell_type": "code",
   "execution_count": 15,
   "id": "b4360fd2",
   "metadata": {},
   "outputs": [
    {
     "name": "stdout",
     "output_type": "stream",
     "text": [
      "[[1 0 1 0 1 0 1 0]\n",
      " [0 1 0 1 0 1 0 1]\n",
      " [1 0 1 0 1 0 1 0]\n",
      " [0 1 0 1 0 1 0 1]\n",
      " [1 0 1 0 1 0 1 0]\n",
      " [0 1 0 1 0 1 0 1]\n",
      " [1 0 1 0 1 0 1 0]\n",
      " [0 1 0 1 0 1 0 1]]\n"
     ]
    }
   ],
   "source": [
    "v = np.zeros((8,8),dtype=int)\n",
    "v[::2,::2] = 1\n",
    "v[1::2,1::2] = 1\n",
    "print(v)"
   ]
  },
  {
   "cell_type": "markdown",
   "id": "0ec1afde",
   "metadata": {},
   "source": [
    "16. กำหนดให้ output คือ array ของตัวเลขแบบสุ่ม ขนาด (4,5,6) จงหาค่าตำแหน่ง (Index) ของสมาชิกตัวที่ 32"
   ]
  },
  {
   "cell_type": "code",
   "execution_count": 16,
   "id": "43b6f4a7",
   "metadata": {},
   "outputs": [
    {
     "name": "stdout",
     "output_type": "stream",
     "text": [
      "[[[35 63 38 64 85 40]\n",
      "  [41 62  2  4 91 92]\n",
      "  [11 55 45 57 10 25]\n",
      "  [22 12 19 35 37 67]\n",
      "  [31  3 62 97 76 37]]\n",
      "\n",
      " [[ 1  1 42 39 84  3]\n",
      "  [97 99 10 37 94 51]\n",
      "  [42 42 19 80 84 63]\n",
      "  [78 29 37 90 29 37]\n",
      "  [ 1 83 22 82 88 39]]\n",
      "\n",
      " [[40 75 27  8 58 26]\n",
      "  [ 4 13 97 58 98  6]\n",
      "  [92 96 39 66 22 57]\n",
      "  [73 17 73 68 28 51]\n",
      "  [54 68 94 13 33 23]]\n",
      "\n",
      " [[83 23  2 85 50 76]\n",
      "  [92 22 81 17 29 99]\n",
      "  [31 37 90  9 14 50]\n",
      "  [ 7 81 12 88 60 55]\n",
      "  [ 4 83 70 71 61 13]]]\n",
      "42\n"
     ]
    }
   ],
   "source": [
    "sixteen = np.random.randint(1,100,(4,5,6))\n",
    "print(sixteen)\n",
    "print(np.reshape(sixteen,sixteen.size)[32])"
   ]
  },
  {
   "cell_type": "markdown",
   "id": "1c4518f2",
   "metadata": {},
   "source": [
    "17. สร้าง Checkboard array ขนาด 10x10 โดยใช้ฟังก์ชัน tile (https://numpy.org/doc/stable/reference/generated/numpy.tile.html)"
   ]
  },
  {
   "cell_type": "code",
   "execution_count": 17,
   "id": "27e0b101",
   "metadata": {},
   "outputs": [
    {
     "name": "stdout",
     "output_type": "stream",
     "text": [
      "[[1 0 1 0 1 0 1 0 1 0]\n",
      " [0 1 0 1 0 1 0 1 0 1]\n",
      " [1 0 1 0 1 0 1 0 1 0]\n",
      " [0 1 0 1 0 1 0 1 0 1]\n",
      " [1 0 1 0 1 0 1 0 1 0]\n",
      " [0 1 0 1 0 1 0 1 0 1]\n",
      " [1 0 1 0 1 0 1 0 1 0]\n",
      " [0 1 0 1 0 1 0 1 0 1]\n",
      " [1 0 1 0 1 0 1 0 1 0]\n",
      " [0 1 0 1 0 1 0 1 0 1]]\n"
     ]
    }
   ],
   "source": [
    "seventeen = np.tile(np.eye(2,2,dtype=int),(5,5))\n",
    "print(seventeen)"
   ]
  },
  {
   "cell_type": "markdown",
   "id": "73106487",
   "metadata": {},
   "source": [
    "18. สร้าง vector ของตัวเลขแบบสุ่มความยาว 10 หน่วยและทำการเรียงลำดับจากน้อยไปมาก"
   ]
  },
  {
   "cell_type": "code",
   "execution_count": 18,
   "id": "5a38a2ae",
   "metadata": {},
   "outputs": [
    {
     "name": "stdout",
     "output_type": "stream",
     "text": [
      "[ 4  5 24 24 29 33 36 52 72 88]\n"
     ]
    }
   ],
   "source": [
    "a = np.random.randint(1,100,10)\n",
    "a = np.sort(a)\n",
    "print(np.sort(a))"
   ]
  },
  {
   "cell_type": "markdown",
   "id": "e482e0c5",
   "metadata": {},
   "source": [
    "19. สร้าง vector ของตัวเลขแบบสุ่มความยาว 10 หน่วยและทำการเรียงลำดับจากมากไปน้อย"
   ]
  },
  {
   "cell_type": "code",
   "execution_count": 19,
   "id": "782ab43d",
   "metadata": {},
   "outputs": [
    {
     "name": "stdout",
     "output_type": "stream",
     "text": [
      "[96 85 75 73 71 40 34 29 19  2]\n"
     ]
    }
   ],
   "source": [
    "a = np.random.randint(1,100,10)\n",
    "a = np.sort(a)[::-1]\n",
    "print(np.sort(a)[::-1])"
   ]
  },
  {
   "cell_type": "markdown",
   "id": "030d5754",
   "metadata": {},
   "source": [
    "20. สร้าง array ขนาด 10x2 ของตัวเลขแบบสุ่ม ทำการเรียงลำดับตัวเลขในแต่ล่ะหลักจากน้อยไปมาก"
   ]
  },
  {
   "cell_type": "code",
   "execution_count": 20,
   "id": "d9e5b6f9",
   "metadata": {},
   "outputs": [
    {
     "name": "stdout",
     "output_type": "stream",
     "text": [
      "[[ 9 18]\n",
      " [20 23]\n",
      " [26 33]\n",
      " [41 47]\n",
      " [59 61]\n",
      " [64 65]\n",
      " [68 69]\n",
      " [69 74]\n",
      " [87 89]\n",
      " [95 99]]\n"
     ]
    }
   ],
   "source": [
    "a = np.random.randint(1,100,20)\n",
    "a = np.reshape(np.sort(a),(10,2))\n",
    "print(a)"
   ]
  },
  {
   "cell_type": "markdown",
   "id": "0d5afa78",
   "metadata": {},
   "source": [
    "21. สร้าง array ขนาด 10x2 ของตัวเลขแบบสุ่ม ทำการเรียงลำดับตัวเลขในแต่ล่ะหลักจากมากไปน้อย"
   ]
  },
  {
   "cell_type": "code",
   "execution_count": 21,
   "id": "20e7419b",
   "metadata": {},
   "outputs": [
    {
     "name": "stdout",
     "output_type": "stream",
     "text": [
      "[[93 87]\n",
      " [82 80]\n",
      " [69 69]\n",
      " [66 65]\n",
      " [53 52]\n",
      " [49 44]\n",
      " [30 29]\n",
      " [23 22]\n",
      " [20 10]\n",
      " [ 4  1]]\n"
     ]
    }
   ],
   "source": [
    "a = np.random.randint(1,100,20)\n",
    "a = np.reshape(np.sort(a)[::-1],(10,2))\n",
    "print(a)"
   ]
  },
  {
   "cell_type": "markdown",
   "id": "ef150d64",
   "metadata": {},
   "source": [
    "22. สร้าง array ขนาด 10x2 ของตัวเลขแบบสุ่ม ทำการเรียงลำดับตัวเลขในแต่ล่ะแถวจากน้อยไปมาก"
   ]
  },
  {
   "cell_type": "code",
   "execution_count": 22,
   "id": "4e8a8563",
   "metadata": {},
   "outputs": [
    {
     "name": "stdout",
     "output_type": "stream",
     "text": [
      "[[65 97]\n",
      " [ 6 45]\n",
      " [32 70]\n",
      " [77 90]\n",
      " [81 91]\n",
      " [40 90]\n",
      " [28 71]\n",
      " [27 47]\n",
      " [52 99]\n",
      " [29 66]]\n"
     ]
    }
   ],
   "source": [
    "a = np.random.randint(1,100,(10,2))\n",
    "a = np.sort(a)\n",
    "print(a)"
   ]
  },
  {
   "cell_type": "markdown",
   "id": "1f26b535",
   "metadata": {},
   "source": [
    "23. สร้าง array ขนาด 10x2 ของตัวเลขแบบสุ่ม ทำการเรียงลำดับตัวเลขในแต่ล่ะแถวจากมากไปน้อย"
   ]
  },
  {
   "cell_type": "code",
   "execution_count": 23,
   "id": "ac6eb154",
   "metadata": {},
   "outputs": [
    {
     "name": "stdout",
     "output_type": "stream",
     "text": [
      "[[59 48]\n",
      " [71 44]\n",
      " [78 26]\n",
      " [87 57]\n",
      " [86 26]\n",
      " [40 38]\n",
      " [90 76]\n",
      " [51 13]\n",
      " [82 40]\n",
      " [67 46]]\n"
     ]
    }
   ],
   "source": [
    "a = np.random.randint(1,100,(10,2))\n",
    "a = np.sort(a)[:,::-1]\n",
    "print(a)"
   ]
  },
  {
   "cell_type": "markdown",
   "id": "524dddea",
   "metadata": {},
   "source": [
    "24. สร้าง array ของตัวเลขแบบสุ่มขนาด 10x2 จำนวน 2 อันและนำมาต่อกันให้ได้ array ผลลัพธ์ขนาด 20*2"
   ]
  },
  {
   "cell_type": "code",
   "execution_count": 24,
   "id": "060012cf",
   "metadata": {},
   "outputs": [
    {
     "name": "stdout",
     "output_type": "stream",
     "text": [
      "[[83 60]\n",
      " [28 61]\n",
      " [38 46]\n",
      " [62 75]\n",
      " [64 60]\n",
      " [11 45]\n",
      " [63 59]\n",
      " [47 35]\n",
      " [54 79]\n",
      " [34 86]\n",
      " [39 63]\n",
      " [95 38]\n",
      " [93 79]\n",
      " [73  3]\n",
      " [61 50]\n",
      " [53 43]\n",
      " [57 31]\n",
      " [23 78]\n",
      " [24 56]\n",
      " [51 19]]\n"
     ]
    }
   ],
   "source": [
    "a = np.random.randint(1,100,(10,2))\n",
    "b = np.random.randint(1,100,(10,2))\n",
    "ab = np.vstack((a,b))\n",
    "print(ab)"
   ]
  },
  {
   "cell_type": "markdown",
   "id": "2223325f",
   "metadata": {},
   "source": [
    "25. สร้าง array ของตัวเลขแบบสุ่มขนาด 10x2 จำนวน 2 อันและนำมาต่อกันให้ได้ array ผลลัพธ์ขนาด 10*4"
   ]
  },
  {
   "cell_type": "code",
   "execution_count": 25,
   "id": "c4fe1b32",
   "metadata": {},
   "outputs": [
    {
     "name": "stdout",
     "output_type": "stream",
     "text": [
      "[[57 56 76 43]\n",
      " [ 6 93 17 49]\n",
      " [95 39 18 29]\n",
      " [78 79 70 14]\n",
      " [72 12 93 68]\n",
      " [17 57 52 39]\n",
      " [52 92 92 91]\n",
      " [36 30 24 62]\n",
      " [58 69 19 98]\n",
      " [22  5 52 17]]\n"
     ]
    }
   ],
   "source": [
    "a = np.random.randint(1,100,(10,2))\n",
    "b = np.random.randint(1,100,(10,2))\n",
    "ab = np.hstack((a,b))\n",
    "print(ab)"
   ]
  },
  {
   "cell_type": "markdown",
   "id": "9735dc05",
   "metadata": {},
   "source": [
    "26.สร้าง array ขนาด (3,) ของ [('apple', 256), ('oragne', 124), ('banana', 924)] กำหนดให้ ข้อมูลในแต่ล่ะหลัก มีชื่อว่า name และ pid ตามลำดับ พร้อมทั้งกำหนด data type ของข้อมูล คือ ข้อความและตัวเลขตามลำดับ และเรียงลำดับข้อมูลตามชื่อผลไม้ (ในหลักแรก) ตามตัวอักษร"
   ]
  },
  {
   "cell_type": "code",
   "execution_count": 26,
   "id": "69731cc5",
   "metadata": {},
   "outputs": [
    {
     "name": "stdout",
     "output_type": "stream",
     "text": [
      "[('apple', 256.) ('banana', 924.) ('oragne', 124.)]\n"
     ]
    }
   ],
   "source": [
    "col_name = np.dtype([('name','U20'),('pid',np.float16)])\n",
    "a = np.array([('apple', 256), ('oragne', 124), ('banana', 924)],dtype=col_name)\n",
    "print(np.sort(a,order='name'))"
   ]
  },
  {
   "cell_type": "markdown",
   "id": "42c62375",
   "metadata": {},
   "source": [
    "27.สร้าง array ขนาด (3,) ของ [('apple', 256), ('oragne', 124), ('banana', 924)] กำหนดให้ ข้อมูลในแต่ล่ะหลัก มีชื่อว่า name และ pid ตามลำดับ พร้อมทั้งกำหนด data type ของข้อมูล คือ ข้อความและตัวเลขตามลำดับ และเรียงลำดับข้อมูลตามรหัสสินค้า (ในหลักที่สอง) จากมากไปน้อย"
   ]
  },
  {
   "cell_type": "code",
   "execution_count": 27,
   "id": "72298beb",
   "metadata": {},
   "outputs": [
    {
     "name": "stdout",
     "output_type": "stream",
     "text": [
      "[('oragne', 124.) ('apple', 256.) ('banana', 924.)]\n"
     ]
    }
   ],
   "source": [
    "col_name = np.dtype([('name','U20'),('pid',np.float16)])\n",
    "a = np.array([('apple', 256), ('oragne', 124), ('banana', 924)],dtype=col_name)\n",
    "print(np.sort(a,order='pid'))"
   ]
  },
  {
   "cell_type": "markdown",
   "id": "4b8a9a42",
   "metadata": {},
   "source": [
    "28. สร้าง array ขนาด 3*2 ของ [['apple', 2.56], ['oragne', -1.24], ['banana', 9.24]] และเรียงลำดับข้อมูลตามชื่อผลไม้ (ในหลักแรก) ตามตัวอักษร"
   ]
  },
  {
   "cell_type": "code",
   "execution_count": 28,
   "id": "456918cc",
   "metadata": {},
   "outputs": [
    {
     "name": "stdout",
     "output_type": "stream",
     "text": [
      "[['apple' '2.56']\n",
      " ['banana' '9.24']\n",
      " ['oragne' '-1.24']]\n"
     ]
    }
   ],
   "source": [
    "a = np.array([['apple', 2.56], ['oragne', -1.24], ['banana', 9.24]])\n",
    "b = np.argsort(a[:,0])\n",
    "a = a[b]\n",
    "print(a)"
   ]
  },
  {
   "cell_type": "markdown",
   "id": "d825b5eb",
   "metadata": {},
   "source": [
    "29. สร้าง array ขนาด 3*2 ของ [['apple', 2.56], ['oragne', -1.24], ['banana', 9.24]] และเรียงลำดับข้อมูลตามราคา (ในหลักที่ 2) จากมากไปน้อย"
   ]
  },
  {
   "cell_type": "code",
   "execution_count": 29,
   "id": "da41ecca",
   "metadata": {},
   "outputs": [
    {
     "name": "stdout",
     "output_type": "stream",
     "text": [
      "[['banana' '9.24']\n",
      " ['apple' '2.56']\n",
      " ['oragne' '-1.24']]\n"
     ]
    }
   ],
   "source": [
    "a = np.array([['apple', 2.56], ['oragne', -1.24], ['banana', 9.24]])\n",
    "b = np.argsort(a[:,1])\n",
    "a = a[b][::-1]\n",
    "print(a)"
   ]
  },
  {
   "cell_type": "markdown",
   "id": "1510de52",
   "metadata": {},
   "source": [
    "30.สร้าง vector ของตัวเลขแบบสุ่มในช่วง 1-10 จำนวน 100 ตัวเลข และแสดงความถี่ของตัวเลขแต่ล่ะตัวภายใน vector"
   ]
  },
  {
   "cell_type": "code",
   "execution_count": 30,
   "id": "3fd2e7d6",
   "metadata": {},
   "outputs": [
    {
     "name": "stdout",
     "output_type": "stream",
     "text": [
      "element [1 2 3 4 5 6 7 8 9] count [12 12  9 13  8 13  9 16  8]\n"
     ]
    }
   ],
   "source": [
    "a = np.random.randint(1,10,100)\n",
    "b,c = np.unique(a,return_counts=True)\n",
    "print(f'element {b} count {c}')"
   ]
  },
  {
   "cell_type": "markdown",
   "id": "648e8db8",
   "metadata": {},
   "source": [
    "31. สร้าง $3\\times3$ Matrix และ ทำการ Transpose\n",
    "\n",
    "$matrix = \\begin{bmatrix}1 & 2 & 3\\\\4 & 5 & 6\\\\7 & 8 & 9\\end{bmatrix}$\n",
    "\n",
    "$matrix\\_transpose = \\begin{bmatrix}1 & 2 & 3\\\\4 & 5 & 6\\\\7 & 8 & 9\\end{bmatrix}^{\\ \\ \\intercal} = \\begin{bmatrix}1 & 4 & 7\\\\2 & 5 & 8\\\\3 & 6 & 9\\end{bmatrix}$"
   ]
  },
  {
   "cell_type": "code",
   "execution_count": 31,
   "id": "29452816",
   "metadata": {},
   "outputs": [
    {
     "name": "stdout",
     "output_type": "stream",
     "text": [
      "[[1 4 7]\n",
      " [2 5 8]\n",
      " [3 6 9]]\n"
     ]
    }
   ],
   "source": [
    "matrix = np.reshape(np.arange(1,10,),(3,3))\n",
    "print(matrix.T)"
   ]
  },
  {
   "cell_type": "markdown",
   "id": "017e547c",
   "metadata": {},
   "source": [
    "32. จากข้อมูลในข้อ 17 จงเปลี่ยนรูปแบบให้อยู่ในรูป 1xN Array"
   ]
  },
  {
   "cell_type": "code",
   "execution_count": 32,
   "id": "d5193c8e",
   "metadata": {},
   "outputs": [
    {
     "name": "stdout",
     "output_type": "stream",
     "text": [
      "[1 0 1 0 1 0 1 0 1 0 0 1 0 1 0 1 0 1 0 1 1 0 1 0 1 0 1 0 1 0 0 1 0 1 0 1 0\n",
      " 1 0 1 1 0 1 0 1 0 1 0 1 0 0 1 0 1 0 1 0 1 0 1 1 0 1 0 1 0 1 0 1 0 0 1 0 1\n",
      " 0 1 0 1 0 1 1 0 1 0 1 0 1 0 1 0 0 1 0 1 0 1 0 1 0 1]\n"
     ]
    }
   ],
   "source": [
    "thirty_two = np.reshape(seventeen,seventeen.size)\n",
    "print(thirty_two)"
   ]
  },
  {
   "cell_type": "markdown",
   "id": "a3960572",
   "metadata": {},
   "source": [
    "33. ทำการหา inverse ของ \n",
    "$matrix = \\begin{bmatrix}1 & 2\\\\3 & 4\\end{bmatrix}$"
   ]
  },
  {
   "cell_type": "code",
   "execution_count": 33,
   "id": "cd7d3acf",
   "metadata": {},
   "outputs": [
    {
     "name": "stdout",
     "output_type": "stream",
     "text": [
      "[[-2.   1. ]\n",
      " [ 1.5 -0.5]]\n"
     ]
    }
   ],
   "source": [
    "thirty_three = np.reshape(np.arange(1,5),(2,2))\n",
    "print(np.linalg.inv(thirty_three))"
   ]
  },
  {
   "cell_type": "markdown",
   "id": "b8a7759e",
   "metadata": {},
   "source": [
    "34. สร้าง Array 1x10 ที่เก็บข้อมูลน้ำหนัก และ Array 1x10 ที่เก็บข้อมูลความสูงของนักศึกษา จำนวน 100 คน โดย ข้อมูลน้ำหนักให้ทำการสุ่มตัวเลขในช่วง 45 - 90 และ ข้อมูลความสูงให้ทำการสุ่มข้อมูลในช่วง 150 - 180\n",
    "\n",
    "<center>$BMI = \\frac{Weight\\ (kg)}{Height^2\\ (m)}\\ \\ \\ \\ \\ \\ \\ \\ \\ \\ \\ \\ \\ \\ $</center>\n",
    "\n",
    "34.1) จงหาจำนวนนักเรียนที่มีค่า BMI เกิน 22\n",
    "\n",
    "34.2) จงหาค่า Mean, Median, Standard Deviation ของค่า BMI"
   ]
  },
  {
   "cell_type": "code",
   "execution_count": 34,
   "id": "71d83180",
   "metadata": {},
   "outputs": [
    {
     "name": "stdout",
     "output_type": "stream",
     "text": [
      "34.1: 76\n",
      "34.2: mean 26.023704456043724 median 26.648000886153703 standart deviation 5.620086227622897\n"
     ]
    }
   ],
   "source": [
    "weight = np.random.randint(45,91,100)\n",
    "height = np.random.randint(150,180,100)\n",
    "bmi = np.array(weight/((height/100)**2))\n",
    "print(f'34.1: {len(bmi[bmi>22])}')\n",
    "print(f'34.2: mean {np.mean(bmi)} median {np.median(bmi)} standart deviation {np.std(bmi)}')"
   ]
  },
  {
   "cell_type": "markdown",
   "id": "7bc771dd",
   "metadata": {},
   "source": [
    "35. สร้าง Array ค่าคะแนนของนักศึกษาโดยการสุ่มตัวเลขในช่วง 0 - 100 จำนวน 100 ค่า และ ทำการจำแนกเกรดของนักศึกษาตามตารางด้านล่าง\n",
    "\n",
    "| Grade | Point | Score |\n",
    "| --- | --- | --- |\n",
    "| A | 4.0 | >=80 |\n",
    "| B+ | 3.5 | >=75 |\n",
    "| B | 3.0 | >=70 |\n",
    "| C+ | 2.5 | >=65 |\n",
    "| C | 2.0 | >=60 |\n",
    "| D+ | 1.5 | >=55 |\n",
    "| D | 1.0 | >=50 |\n",
    "| F | 0.0 | <50 |\n",
    "\n",
    "EX.\n",
    "\n",
    " $scores = \\begin{bmatrix}10 & 50 & 40 & 60 & 75 & 100\\end{bmatrix}$ //ตัวอย่างข้อมูล\n",
    " \n",
    " $answer = \\begin{bmatrix}F & D & F & C & B+ & A\\end{bmatrix}$ //คำตอบ"
   ]
  },
  {
   "cell_type": "code",
   "execution_count": 35,
   "id": "3fc19dee",
   "metadata": {},
   "outputs": [
    {
     "name": "stdout",
     "output_type": "stream",
     "text": [
      "['B+' 'A' 'F' 'A' 'F' 'C+' 'A' 'A' 'F' 'A' 'F' 'A' 'A' 'D+' 'F' 'F' 'D'\n",
      " 'F' 'F' 'B' 'F' 'F' 'D' 'F' 'F' 'C' 'F' 'A' 'F' 'A' 'F' 'F' 'B' 'F' 'F'\n",
      " 'D' 'F' 'F' 'F' 'F' 'F' 'A' 'D' 'F' 'F' 'A' 'C' 'C+' 'F' 'F' 'B' 'C+' 'A'\n",
      " 'F' 'C' 'C+' 'B+' 'B+' 'D' 'D' 'F' 'C+' 'C+' 'F' 'F' 'F' 'A' 'B+' 'F' 'F'\n",
      " 'B+' 'D+' 'F' 'A' 'A' 'F' 'C+' 'C+' 'A' 'F' 'F' 'F' 'B' 'A' 'D+' 'C+'\n",
      " 'B+' 'F' 'F' 'F' 'A' 'F' 'F' 'F' 'F' 'F' 'F' 'F' 'F' 'D']\n"
     ]
    }
   ],
   "source": [
    "a = np.random.randint(1,101,100)\n",
    "con = [\n",
    "    (a>=80),\n",
    "    (a>=75),\n",
    "    (a>=70),\n",
    "    (a>=65),\n",
    "    (a>=60),\n",
    "    (a>=55),\n",
    "    (a>=50),\n",
    "    (a<50)\n",
    "]\n",
    "grade = ['A','B+','B','C+','C','D+','D','F']\n",
    "ans = np.select(con,grade)\n",
    "print(ans)"
   ]
  }
 ],
 "metadata": {
  "kernelspec": {
   "display_name": "base",
   "language": "python",
   "name": "python3"
  },
  "language_info": {
   "codemirror_mode": {
    "name": "ipython",
    "version": 3
   },
   "file_extension": ".py",
   "mimetype": "text/x-python",
   "name": "python",
   "nbconvert_exporter": "python",
   "pygments_lexer": "ipython3",
   "version": "3.12.4"
  }
 },
 "nbformat": 4,
 "nbformat_minor": 5
}
