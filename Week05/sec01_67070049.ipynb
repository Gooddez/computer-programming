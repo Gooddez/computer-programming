{
 "cells": [
  {
   "cell_type": "code",
   "execution_count": null,
   "metadata": {},
   "outputs": [
    {
     "name": "stdout",
     "output_type": "stream",
     "text": [
      "Number\n"
     ]
    }
   ],
   "source": [
    "#ข้อ1\n",
    "def main(a):\n",
    "    if a.isnumeric() :\n",
    "        return(\"Number\")\n",
    "    else:\n",
    "        return(\"Character\")\n",
    "print(main(input()))\n"
   ]
  },
  {
   "cell_type": "code",
   "execution_count": 6,
   "metadata": {},
   "outputs": [
    {
     "name": "stdout",
     "output_type": "stream",
     "text": [
      "Even number\n"
     ]
    }
   ],
   "source": [
    "#ข้อ2\n",
    "def main(a):\n",
    "    if a.isnumeric():\n",
    "        if int(a)%2:\n",
    "            ans = \"Odd number\"\n",
    "        else:\n",
    "            ans = \"Even number\"\n",
    "    else:\n",
    "        ans = \"Character\"\n",
    "    return ans\n",
    "print(main(input()))\n"
   ]
  },
  {
   "cell_type": "code",
   "execution_count": 7,
   "metadata": {},
   "outputs": [
    {
     "name": "stdout",
     "output_type": "stream",
     "text": [
      "Uppercase\n"
     ]
    }
   ],
   "source": [
    "#ข้อ3\n",
    "def main(a):\n",
    "    if a.isnumeric():\n",
    "        if int(a)%2:\n",
    "            ans = \"Odd number\"\n",
    "        else:\n",
    "            ans = \"Even number\"\n",
    "    else:\n",
    "        if a.isupper():\n",
    "            ans = \"Uppercase\"\n",
    "        else:\n",
    "            ans = \"Lowercase\"\n",
    "    return ans\n",
    "print(main(input()))\n"
   ]
  },
  {
   "cell_type": "code",
   "execution_count": 10,
   "metadata": {},
   "outputs": [
    {
     "name": "stdout",
     "output_type": "stream",
     "text": [
      "work hard, junior\n"
     ]
    }
   ],
   "source": [
    "#ข้อ4\n",
    "def main(a):\n",
    "    dic = {\n",
    "        \"64\" : \"Hello,freshman\",\n",
    "        \"63\" : \"Ne nice, sophomore\",\n",
    "        \"62\" : \"Work hard, junior\",\n",
    "        \"61\" : \"You\\'re almost there, senior\"\n",
    "    }\n",
    "    return dic[a[:2]]\n",
    "print(main(input()))"
   ]
  },
  {
   "cell_type": "code",
   "execution_count": null,
   "metadata": {},
   "outputs": [
    {
     "name": "stdout",
     "output_type": "stream",
     "text": [
      "Architecture\n"
     ]
    }
   ],
   "source": [
    "#ข้อ5\n",
    "def main(a):\n",
    "    dic = {\n",
    "        \"01\" : \"Engineering\",\n",
    "        \"02\" : \"Architecture\",\n",
    "        \"03\" : \"Industrial Education and Technology\",\n",
    "        \"04\" : \"Agricultural Technology\",\n",
    "        \"05\" : \"Science\"\n",
    "    }\n",
    "    return dic[a[2:4]]\n",
    "print(main(input()))"
   ]
  }
 ],
 "metadata": {
  "kernelspec": {
   "display_name": "base",
   "language": "python",
   "name": "python3"
  },
  "language_info": {
   "codemirror_mode": {
    "name": "ipython",
    "version": 3
   },
   "file_extension": ".py",
   "mimetype": "text/x-python",
   "name": "python",
   "nbconvert_exporter": "python",
   "pygments_lexer": "ipython3",
   "version": "3.12.4"
  }
 },
 "nbformat": 4,
 "nbformat_minor": 2
}
