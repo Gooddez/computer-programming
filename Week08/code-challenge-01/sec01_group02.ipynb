{
 "cells": [
  {
   "cell_type": "code",
   "execution_count": 134,
   "id": "5783b42f",
   "metadata": {},
   "outputs": [],
   "source": [
    "# 1. import numpy library\n",
    "import numpy as np"
   ]
  },
  {
   "cell_type": "markdown",
   "id": "0cfbba64",
   "metadata": {},
   "source": [
    "# Working with subjectA.csv"
   ]
  },
  {
   "cell_type": "code",
   "execution_count": 135,
   "id": "9a27ef16",
   "metadata": {},
   "outputs": [],
   "source": [
    "# 2. Load subjectA.csv files as numpy array\n",
    "subjectA = np.genfromtxt('subjectA.csv',delimiter=',',names=True,dtype=None,encoding='utf-8')"
   ]
  },
  {
   "cell_type": "code",
   "execution_count": 136,
   "id": "bbf9ea4d",
   "metadata": {},
   "outputs": [
    {
     "name": "stdout",
     "output_type": "stream",
     "text": [
      "[(65070068, ' Miss NATTAKAMON  JAIMETHA', 81.54)\n",
      " (67070004, ' Mr. KRIDSANAI  TEERAPRAPCHAISRI', 66.35)\n",
      " (67070005, ' Mr. KAWEEWAT  SANONKULLAWAT', 66.49)\n",
      " (67070013, ' Mr. KRAIDEACH  KONGKANPAI', 71.34)\n",
      " (67070022, ' Mr. JIRAYU  TIPUN', 71.79)\n",
      " (67070028, ' Miss CHOMPHUFAH  MEECHAI', 72.33)\n",
      " (67070035, ' Mr. CHAWANWIT  THANATON', 65.82)\n",
      " (67070047, ' Mr. NATTHAKORN  SRISUWARAPORN', 70.23)\n",
      " (67070048, ' Miss NUTKRITTA  WUNGWISET', 77.27)\n",
      " (67070049, ' Mr. NATTACHAI  KAEWCHUM', 71.21)\n",
      " (67070052, ' Mr. NATTAWAT  SATHANPONG', 60.98)\n",
      " (67070058, ' Mr. TANAKRIT  PRAMAYA', 77.01)\n",
      " (67070063, ' Mr. THANACHIN  CHUKIATCHAI', 64.7 )\n",
      " (67070068, ' Mr. THANAPAT  DACHRAKSA', 71.3 )\n",
      " (67070071, ' Mr. TANIST  MUKPROM', 76.53)\n",
      " (67070077, ' Miss THIYARAT  TECHATHUMMASERD', 66.63)\n",
      " (67070079, ' Mr. TITIPAN  SOONTORNPATHIKOM', 72.76)\n",
      " (67070080, ' Mr. THITIWAT  SOMPUNDATSKUN', 83.84)\n",
      " (67070083, ' Mr. TEERAWAT  CHUNGSAWATMEECHAI', 61.33)\n",
      " (67070086, ' Mr. NAPHAT  TONGTHAIRTHONG', 67.47)\n",
      " (67070095, ' Miss BUSSAYAMAS  SONBANKOH', 62.27)\n",
      " (67070096, ' Miss PARAPHA  RUCKTANAKUL', 76.31)\n",
      " (67070098, ' Mr. PAWARIT  PANSING', 66.8 )\n",
      " (67070101, ' Miss PIYATHIDA  JUNTHARAOUICHAI', 74.32)\n",
      " (67070103, ' Mr. PONGSAKORN  PANYACOM', 82.99)\n",
      " (67070104, ' Mr. PATCHARA  PONGVECH', 60.84)\n",
      " (67070112, ' Miss PATNAGAN  KACHAWUTHAKORN', 63.03)\n",
      " (67070113, ' Mr. PATHIT  KASEMMONGKOLCHAI', 73.74)\n",
      " (67070116, ' Mr. PITCHAYES  YANKOSES', 87.64)\n",
      " (67070124, ' Mr. PAKAPHON  PHTHIVORN', 65.54)\n",
      " (67070125, ' Mr. PONPICHIT  CHIRANGKUL', 93.08)\n",
      " (67070127, ' Mr. PATTARAPOL  PETCHARAT', 69.69)\n",
      " (67070131, ' Miss PARADEE  PIMOLAEKAKSORN', 67.57)\n",
      " (67070135, ' Mr. PEEMPOL  KUNDILOTHANAKUL', 76.05)\n",
      " (67070140, ' Mr. PUVARIT  KONGJORN', 73.94)\n",
      " (67070141, ' Mr. PHUWIT  SAITHONG', 68.08)\n",
      " (67070147, ' Miss JAANVI  DUBEY', 70.82)\n",
      " (67070158, ' Miss WARAPHORN  SANGKHAM', 80.1 )\n",
      " (67070168, ' Mr. VEEKRIT  OWATSARN', 67.15)\n",
      " (67070171, ' Miss STHEEVARA  BANGKAE', 60.88)\n",
      " (67070176, ' Mr. SUPHANAT  NITIKARUN', 68.94)\n",
      " (67070178, ' Miss SUPISARA  LAICHAN', 87.05)\n",
      " (67070185, ' Mr. SITTICHAI  MEKKHAYAI', 76.07)\n",
      " (67070188, ' Miss SUPITCHA  NA UBON', 69.15)\n",
      " (67070190, ' Mr. SUVIJAK  KULCHATRANON', 84.04)\n",
      " (67070192, ' Miss ACHIRAYA  SAIKHAMWONG', 73.02)\n",
      " (67070195, ' Mr. ATHIBODEE  BURANAKARN', 76.62)\n",
      " (67070201, ' Miss KATAWAN  JITRAWORRAYAKUL', 71.12)\n",
      " (67070210, ' Miss JINSUTHA  BOONKITTIVASIN', 70.43)\n",
      " (67070212, ' Mr. JAROENSUP  KAEWSANGSUK', 73.02)\n",
      " (67070214, ' Miss CHAYANIN  PRECHATHAMARACH', 74.52)\n",
      " (67070219, ' Miss CHIDCHANOK  SONSUK', 77.76)\n",
      " (67070222, ' Miss CHUTIKAN  CHAOWAT', 67.76)\n",
      " (67070225, ' Miss NAPATCHA  KAEWKHAMPA', 72.49)\n",
      " (67070229, ' Miss NATNICHA  RATANO', 69.19)\n",
      " (67070232, ' Miss NEEDA  LUANDEE', 78.58)\n",
      " (67070238, ' Mr. TASCHAKORN  KITTIWANRUEK', 56.71)\n",
      " (67070257, ' Mr. PAT  PONSITTINAT', 70.59)\n",
      " (67070258, ' Miss PATTEERA  CHINDAPHAN', 77.79)\n",
      " (67070265, ' Miss PANTILA  KAMMING', 68.27)\n",
      " (67070270, ' Miss MAETAPON  MAUNGON', 81.9 )\n",
      " (67070288, ' Miss SUCHANYA  KHAMPHAENG', 91.88)\n",
      " (67070289, ' Miss ANITCHA  PRAYOTCHON', 78.35)\n",
      " (67070290, ' Miss ATINUTCH  SANTASWANG', 79.62)\n",
      " (67070291, ' Miss ANANYA  KASOSOT', 75.66)\n",
      " (67070296, ' Mr. ALONGKORN  PHETPAN', 69.84)\n",
      " (67070306, ' Mr. NORRASETH  RATTANASETHI', 76.73)\n",
      " (67070307, ' Mr. PITI  YANG', 84.77)\n",
      " (67070308, ' Mr. SUPARIN  NUMSRICHROENSUK', 72.14)]\n"
     ]
    }
   ],
   "source": [
    "# 3. Display the array\n",
    "print(subjectA)"
   ]
  },
  {
   "cell_type": "code",
   "execution_count": 277,
   "id": "a4571486",
   "metadata": {},
   "outputs": [
    {
     "name": "stdout",
     "output_type": "stream",
     "text": [
      "93.08 56.71 72.92420289855073\n"
     ]
    }
   ],
   "source": [
    "# 4. Find the maximum,minimum and average score of subject A\n",
    "maximum = np.max(subjectA['Score'])\n",
    "minimum = np.min(subjectA['Score'])\n",
    "average = np.mean(subjectA['Score'])\n",
    "print(maximum,minimum,average)"
   ]
  },
  {
   "cell_type": "code",
   "execution_count": 355,
   "id": "4b32a288",
   "metadata": {},
   "outputs": [
    {
     "name": "stdout",
     "output_type": "stream",
     "text": [
      "[' Mr. PONPICHIT  CHIRANGKUL']\n"
     ]
    }
   ],
   "source": [
    "# 5. Print fullname of student with maximum score\n",
    "highest = subjectA['NameSurname'][subjectA['Score'] == maximum]\n",
    "print(highest)"
   ]
  },
  {
   "cell_type": "code",
   "execution_count": 356,
   "id": "cda0827a",
   "metadata": {},
   "outputs": [
    {
     "name": "stdout",
     "output_type": "stream",
     "text": [
      "[(67070125, ' Mr. PONPICHIT  CHIRANGKUL', 93.08)\n",
      " (67070288, ' Miss SUCHANYA  KHAMPHAENG', 91.88)\n",
      " (67070116, ' Mr. PITCHAYES  YANKOSES', 87.64)\n",
      " (67070178, ' Miss SUPISARA  LAICHAN', 87.05)\n",
      " (67070307, ' Mr. PITI  YANG', 84.77)\n",
      " (67070190, ' Mr. SUVIJAK  KULCHATRANON', 84.04)\n",
      " (67070080, ' Mr. THITIWAT  SOMPUNDATSKUN', 83.84)\n",
      " (67070103, ' Mr. PONGSAKORN  PANYACOM', 82.99)\n",
      " (67070270, ' Miss MAETAPON  MAUNGON', 81.9 )\n",
      " (65070068, ' Miss NATTAKAMON  JAIMETHA', 81.54)]\n"
     ]
    }
   ],
   "source": [
    "# 6. List 10 students with highest scores\n",
    "sorted_subjectA = np.sort(subjectA,order='Score')[::-1]\n",
    "print(sorted_subjectA[:10])"
   ]
  },
  {
   "cell_type": "code",
   "execution_count": 410,
   "id": "6b9cb9c0",
   "metadata": {},
   "outputs": [
    {
     "name": "stdout",
     "output_type": "stream",
     "text": [
      "[(67070288, ' Miss SUCHANYA  KHAMPHAENG', 91.88)\n",
      " (67070178, ' Miss SUPISARA  LAICHAN', 87.05)\n",
      " (67070270, ' Miss MAETAPON  MAUNGON', 81.9 )\n",
      " (65070068, ' Miss NATTAKAMON  JAIMETHA', 81.54)\n",
      " (67070158, ' Miss WARAPHORN  SANGKHAM', 80.1 )\n",
      " (67070290, ' Miss ATINUTCH  SANTASWANG', 79.62)\n",
      " (67070232, ' Miss NEEDA  LUANDEE', 78.58)\n",
      " (67070289, ' Miss ANITCHA  PRAYOTCHON', 78.35)\n",
      " (67070258, ' Miss PATTEERA  CHINDAPHAN', 77.79)\n",
      " (67070219, ' Miss CHIDCHANOK  SONSUK', 77.76)]\n"
     ]
    }
   ],
   "source": [
    "# 7. List 10 female students with highest scores\n",
    "highest_female = sorted_subjectA[np.char.startswith(sorted_subjectA['NameSurname'],' Miss')][:10]\n",
    "print(highest_female)"
   ]
  },
  {
   "cell_type": "code",
   "execution_count": 510,
   "id": "2b2246df",
   "metadata": {},
   "outputs": [
    {
     "name": "stdout",
     "output_type": "stream",
     "text": [
      "[' Miss NATTAKAMON  JAIMETHA' ' Miss NUTKRITTA  WUNGWISET'\n",
      " ' Mr. TANAKRIT  PRAMAYA' ' Mr. TANIST  MUKPROM'\n",
      " ' Mr. THITIWAT  SOMPUNDATSKUN' ' Miss PARAPHA  RUCKTANAKUL'\n",
      " ' Miss PIYATHIDA  JUNTHARAOUICHAI' ' Mr. PONGSAKORN  PANYACOM'\n",
      " ' Mr. PATHIT  KASEMMONGKOLCHAI' ' Mr. PITCHAYES  YANKOSES'\n",
      " ' Mr. PONPICHIT  CHIRANGKUL' ' Mr. PEEMPOL  KUNDILOTHANAKUL'\n",
      " ' Mr. PUVARIT  KONGJORN' ' Miss WARAPHORN  SANGKHAM'\n",
      " ' Miss SUPISARA  LAICHAN' ' Mr. SITTICHAI  MEKKHAYAI'\n",
      " ' Mr. SUVIJAK  KULCHATRANON' ' Miss ACHIRAYA  SAIKHAMWONG'\n",
      " ' Mr. ATHIBODEE  BURANAKARN' ' Mr. JAROENSUP  KAEWSANGSUK'\n",
      " ' Miss CHAYANIN  PRECHATHAMARACH' ' Miss CHIDCHANOK  SONSUK'\n",
      " ' Miss NEEDA  LUANDEE' ' Miss PATTEERA  CHINDAPHAN'\n",
      " ' Miss MAETAPON  MAUNGON' ' Miss SUCHANYA  KHAMPHAENG'\n",
      " ' Miss ANITCHA  PRAYOTCHON' ' Miss ATINUTCH  SANTASWANG'\n",
      " ' Miss ANANYA  KASOSOT' ' Mr. NORRASETH  RATTANASETHI' ' Mr. PITI  YANG']\n"
     ]
    }
   ],
   "source": [
    "# 8. Display the students' names whose scores are higher than the average score of the class\n",
    "than_average = subjectA[subjectA['Score']>average]\n",
    "print(than_average['NameSurname'])"
   ]
  },
  {
   "cell_type": "code",
   "execution_count": 511,
   "id": "ee796806",
   "metadata": {},
   "outputs": [
    {
     "name": "stdout",
     "output_type": "stream",
     "text": [
      "[' Mr. TANAKRIT  PRAMAYA' ' Mr. TANIST  MUKPROM'\n",
      " ' Mr. THITIWAT  SOMPUNDATSKUN' ' Mr. PONGSAKORN  PANYACOM'\n",
      " ' Mr. PATHIT  KASEMMONGKOLCHAI' ' Mr. PITCHAYES  YANKOSES'\n",
      " ' Mr. PONPICHIT  CHIRANGKUL' ' Mr. PEEMPOL  KUNDILOTHANAKUL'\n",
      " ' Mr. PUVARIT  KONGJORN' ' Mr. SITTICHAI  MEKKHAYAI'\n",
      " ' Mr. SUVIJAK  KULCHATRANON' ' Mr. ATHIBODEE  BURANAKARN'\n",
      " ' Mr. JAROENSUP  KAEWSANGSUK' ' Mr. NORRASETH  RATTANASETHI'\n",
      " ' Mr. PITI  YANG']\n"
     ]
    }
   ],
   "source": [
    "# 9. Display the MALE students' names whose scores are higher than the average score of the \n",
    "# class sorted by student-id (increasing)\n",
    "male = subjectA[np.char.startswith(subjectA['NameSurname'],' Mr.')]\n",
    "sorted_male = male['NameSurname'][np.argsort(male['\\ufeffStudent_ID'])][male['Score']>average]\n",
    "print(sorted_male)"
   ]
  },
  {
   "cell_type": "code",
   "execution_count": 557,
   "id": "76cc3242",
   "metadata": {},
   "outputs": [
    {
     "name": "stdout",
     "output_type": "stream",
     "text": [
      "[' Mr. PONPICHIT  CHIRANGKUL' ' Miss SUCHANYA  KHAMPHAENG'\n",
      " ' Mr. PITCHAYES  YANKOSES' ' Miss SUPISARA  LAICHAN' ' Mr. PITI  YANG'\n",
      " ' Mr. SUVIJAK  KULCHATRANON' ' Mr. THITIWAT  SOMPUNDATSKUN'\n",
      " ' Mr. PONGSAKORN  PANYACOM' ' Miss MAETAPON  MAUNGON'\n",
      " ' Miss NATTAKAMON  JAIMETHA' ' Miss WARAPHORN  SANGKHAM'\n",
      " ' Miss ATINUTCH  SANTASWANG' ' Miss NEEDA  LUANDEE'\n",
      " ' Miss ANITCHA  PRAYOTCHON' ' Miss PATTEERA  CHINDAPHAN'\n",
      " ' Miss CHIDCHANOK  SONSUK' ' Miss NUTKRITTA  WUNGWISET'\n",
      " ' Mr. TANAKRIT  PRAMAYA' ' Mr. NORRASETH  RATTANASETHI'\n",
      " ' Mr. ATHIBODEE  BURANAKARN' ' Mr. TANIST  MUKPROM'\n",
      " ' Miss PARAPHA  RUCKTANAKUL' ' Mr. SITTICHAI  MEKKHAYAI'\n",
      " ' Mr. PEEMPOL  KUNDILOTHANAKUL' ' Miss ANANYA  KASOSOT'\n",
      " ' Miss CHAYANIN  PRECHATHAMARACH' ' Miss PIYATHIDA  JUNTHARAOUICHAI'\n",
      " ' Mr. PUVARIT  KONGJORN' ' Mr. PATHIT  KASEMMONGKOLCHAI'\n",
      " ' Mr. JAROENSUP  KAEWSANGSUK' ' Miss ACHIRAYA  SAIKHAMWONG']\n"
     ]
    }
   ],
   "source": [
    "# 10. Display the students' names whose scores are higher than the average score of the class sorted by score (decreasing)\n",
    "sorted_by_score = than_average['NameSurname'][np.argsort(than_average['Score'])]\n",
    "print(sorted_by_score[::-1])"
   ]
  },
  {
   "cell_type": "code",
   "execution_count": 660,
   "id": "c4058764",
   "metadata": {},
   "outputs": [
    {
     "name": "stdout",
     "output_type": "stream",
     "text": [
      "(array([ 0,  0,  1,  6, 18, 20, 16,  6,  2,  0], dtype=int64), array([ 40.,  46.,  52.,  58.,  64.,  70.,  76.,  82.,  88.,  94., 100.]))\n"
     ]
    }
   ],
   "source": [
    "# 11. Compute score histogram of 10 bins from 40 - 100\n",
    "histogram = np.histogram(subjectA['Score'],bins=10,range=(40,100))\n",
    "print(histogram)"
   ]
  },
  {
   "cell_type": "code",
   "execution_count": 661,
   "id": "7bf1ff4b",
   "metadata": {},
   "outputs": [],
   "source": [
    "# 12. Visualize the score histogram\n"
   ]
  },
  {
   "cell_type": "markdown",
   "id": "c60fc733",
   "metadata": {},
   "source": [
    "# Working with subjectA and subjectB.csv"
   ]
  },
  {
   "cell_type": "code",
   "execution_count": 662,
   "id": "f8959235",
   "metadata": {},
   "outputs": [],
   "source": [
    "# 13. Load subjectB.csv files as numpy array\n",
    "subjectB = np.genfromtxt('subjectB.csv',delimiter=',',names=True,dtype=None,encoding='utf-8')"
   ]
  },
  {
   "cell_type": "code",
   "execution_count": 663,
   "id": "b3c29eb6",
   "metadata": {},
   "outputs": [
    {
     "name": "stdout",
     "output_type": "stream",
     "text": [
      "[(67070192, ' ACHIRAYA  SAIKHAMWONG',  62.5 )\n",
      " (67070296, ' ALONGKORN  PHETPAN',  67.19)\n",
      " (67070291, ' ANANYA  KASOSOT',  60.07)\n",
      " (67070289, ' ANITCHA  PRAYOTCHON',  60.68)\n",
      " (67070195, ' ATHIBODEE  BURANAKARN',  63.38)\n",
      " (67070290, ' ATINUTCH  SANTASWANG',  72.14)\n",
      " (67070095, ' BUSSAYAMAS  SONBANKOH',  66.44)\n",
      " (67070035, ' CHAWANWIT  THANATON',  67.53)\n",
      " (67070214, ' CHAYANIN  PRECHATHAMARACH',  55.  )\n",
      " (67070219, ' CHIDCHANOK  SONSUK',  60.93)\n",
      " (67070028, ' CHOMPHUFAH  MEECHAI',  73.56)\n",
      " (67070222, ' CHUTIKAN  CHAOWAT',  64.51)\n",
      " (67070147, ' JAANVI  DUBEY',  57.3 )\n",
      " (67070212, ' JAROENSUP  KAEWSANGSUK',  60.93)\n",
      " (67070210, ' JINSUTHA  BOONKITTIVASIN',  59.91)\n",
      " (67070022, ' JIRAYU  TIPUN',  56.61)\n",
      " (67070201, ' KATAWAN  JITRAWORRAYAKUL',  74.64)\n",
      " (67070005, ' KAWEEWAT  SANONKULLAWAT',  89.17)\n",
      " (67070013, ' KRAIDEACH  KONGKANPAI',  63.68)\n",
      " (67070004, ' KRIDSANAI  TEERAPRAPCHAISRI',  78.63)\n",
      " (67070270, ' MAETAPON  MAUNGON',  83.36)\n",
      " (67070225, ' NAPATCHA  KAEWKHAMPA',  69.38)\n",
      " (67070086, ' NAPHAT  TONGTHAIRTHONG',  69.53)\n",
      " (67070229, ' NATNICHA  RATANO',  68.2 )\n",
      " (67070049, ' NATTACHAI  KAEWCHUM',  61.26)\n",
      " (65070068, ' NATTAKAMON  JAIMETHA',  67.04)\n",
      " (67070052, ' NATTAWAT  SATHANPONG',  59.89)\n",
      " (67070047, ' NATTHAKORN  SRISUWARAPORN',  83.44)\n",
      " (67070232, ' NEEDA  LUANDEE',  59.61)\n",
      " (67070306, ' NORRASETH  RATTANASETHI',  63.57)\n",
      " (67070048, ' NUTKRITTA  WUNGWISET',  60.92)\n",
      " (67070124, ' PAKAPHON  PHTHIVORN',  73.89)\n",
      " (67070265, ' PANTILA  KAMMING',  77.09)\n",
      " (67070131, ' PARADEE  PIMOLAEKAKSORN',  73.86)\n",
      " (67070096, ' PARAPHA  RUCKTANAKUL',  69.2 )\n",
      " (67070257, ' PAT  PONSITTINAT',  57.49)\n",
      " (67070104, ' PATCHARA  PONGVECH',  58.45)\n",
      " (67070113, ' PATHIT  KASEMMONGKOLCHAI',  67.56)\n",
      " (67070112, ' PATNAGAN  KACHAWUTHAKORN',  67.14)\n",
      " (67070127, ' PATTARAPOL  PETCHARAT',  69.12)\n",
      " (67070258, ' PATTEERA  CHINDAPHAN',  76.59)\n",
      " (67070098, ' PAWARIT  PANSING',  70.14)\n",
      " (67070135, ' PEEMPOL  KUNDILOTHANAKUL',  65.49)\n",
      " (67070141, ' PHUWIT  SAITHONG',  69.82)\n",
      " (67070116, ' PITCHAYES  YANKOSES',  63.36)\n",
      " (67070307, ' PITI  YANG',  59.1 )\n",
      " (67070101, ' PIYATHIDA  JUNTHARAOUICHAI',  66.46)\n",
      " (67070103, ' PONGSAKORN  PANYACOM',  85.  )\n",
      " (67070125, ' PONPICHIT  CHIRANGKUL',  64.5 )\n",
      " (67070140, ' PUVARIT  KONGJORN',  60.85)\n",
      " (67070185, ' SITTICHAI  MEKKHAYAI',  70.3 )\n",
      " (67070171, ' STHEEVARA  BANGKAE',  76.64)\n",
      " (67070288, ' SUCHANYA  KHAMPHAENG',  67.01)\n",
      " (67070308, ' SUPARIN  NUMSRICHROENSUK',  68.25)\n",
      " (67070176, ' SUPHANAT  NITIKARUN',  75.92)\n",
      " (67070178, ' SUPISARA  LAICHAN',  75.09)\n",
      " (67070188, ' SUPITCHA  NA UBON',  65.04)\n",
      " (67070190, ' SUVIJAK  KULCHATRANON',  64.12)\n",
      " (67070058, ' TANAKRIT  PRAMAYA',  58.01)\n",
      " (67070071, ' TANIST  MUKPROM',  76.06)\n",
      " (67070238, ' TASCHAKORN  KITTIWANRUEK',  60.63)\n",
      " (67070083, ' TEERAWAT  CHUNGSAWATMEECHAI', 100.  )\n",
      " (67070063, ' THANACHIN  CHUKIATCHAI',  72.16)\n",
      " (67070068, ' THANAPAT  DACHRAKSA',  58.37)\n",
      " (67070080, ' THITIWAT  SOMPUNDATSKUN',  64.13)\n",
      " (67070077, ' THIYARAT  TECHATHUMMASERD',  63.41)\n",
      " (67070079, ' TITIPAN  SOONTORNPATHIKOM',  76.85)\n",
      " (67070168, ' VEEKRIT  OWATSARN',  65.8 )\n",
      " (67070158, ' WARAPHORN  SANGKHAM',  81.95)]\n"
     ]
    }
   ],
   "source": [
    "# 14. Display the array\n",
    "print(subjectB)"
   ]
  },
  {
   "cell_type": "code",
   "execution_count": 664,
   "id": "b4a738f3",
   "metadata": {},
   "outputs": [],
   "source": [
    "# 15. Create an 70x4 array of student-id, student-name, score from subject A and score from subject B of all students"
   ]
  },
  {
   "cell_type": "code",
   "execution_count": 668,
   "id": "7be297b1",
   "metadata": {},
   "outputs": [
    {
     "name": "stdout",
     "output_type": "stream",
     "text": [
      "[' Miss NATTAKAMON  JAIMETHA' ' Mr. KAWEEWAT  SANONKULLAWAT'\n",
      " ' Mr. KRAIDEACH  KONGKANPAI' ' Mr. JIRAYU  TIPUN'\n",
      " ' Miss CHOMPHUFAH  MEECHAI' ' Mr. NATTHAKORN  SRISUWARAPORN'\n",
      " ' Miss NUTKRITTA  WUNGWISET' ' Mr. NATTACHAI  KAEWCHUM'\n",
      " ' Mr. TANAKRIT  PRAMAYA' ' Mr. THANACHIN  CHUKIATCHAI'\n",
      " ' Mr. THANAPAT  DACHRAKSA' ' Mr. TANIST  MUKPROM'\n",
      " ' Miss THIYARAT  TECHATHUMMASERD' ' Miss PARAPHA  RUCKTANAKUL'\n",
      " ' Miss PIYATHIDA  JUNTHARAOUICHAI' ' Mr. PONGSAKORN  PANYACOM'\n",
      " ' Miss PATNAGAN  KACHAWUTHAKORN' ' Mr. PITCHAYES  YANKOSES'\n",
      " ' Mr. PAKAPHON  PHTHIVORN' ' Mr. PONPICHIT  CHIRANGKUL'\n",
      " ' Mr. PEEMPOL  KUNDILOTHANAKUL' ' Mr. PUVARIT  KONGJORN'\n",
      " ' Mr. PHUWIT  SAITHONG' ' Miss JAANVI  DUBEY' ' Miss WARAPHORN  SANGKHAM'\n",
      " ' Mr. VEEKRIT  OWATSARN' ' Miss SUPISARA  LAICHAN'\n",
      " ' Mr. SITTICHAI  MEKKHAYAI' ' Mr. SUVIJAK  KULCHATRANON'\n",
      " ' Miss ACHIRAYA  SAIKHAMWONG' ' Mr. ATHIBODEE  BURANAKARN'\n",
      " ' Miss JINSUTHA  BOONKITTIVASIN' ' Mr. JAROENSUP  KAEWSANGSUK'\n",
      " ' Miss CHAYANIN  PRECHATHAMARACH' ' Miss CHIDCHANOK  SONSUK'\n",
      " ' Miss CHUTIKAN  CHAOWAT' ' Miss NAPATCHA  KAEWKHAMPA'\n",
      " ' Miss NEEDA  LUANDEE' ' Mr. PAT  PONSITTINAT'\n",
      " ' Miss PATTEERA  CHINDAPHAN' ' Miss MAETAPON  MAUNGON'\n",
      " ' Miss ANITCHA  PRAYOTCHON' ' Miss ATINUTCH  SANTASWANG'\n",
      " ' Miss ANANYA  KASOSOT' ' Mr. ALONGKORN  PHETPAN' ' Mr. PITI  YANG']\n"
     ]
    }
   ],
   "source": [
    "# 16. Find the students who has higher score from subject A than subject B\n",
    "sorter = subjectA['Score'] > subjectB['Score']\n",
    "ans = subjectA['NameSurname'][sorter]\n",
    "print(ans)\n"
   ]
  },
  {
   "cell_type": "code",
   "execution_count": 669,
   "id": "45588ce9",
   "metadata": {},
   "outputs": [
    {
     "name": "stdout",
     "output_type": "stream",
     "text": [
      "[81.54, 71.34, 71.79, 72.33, 70.23, 77.27, 71.21, 77.01, 71.3, 76.53, 72.76, 83.84, 76.31, 74.32, 82.99, 73.74, 87.64, 93.08, 69.69, 76.05, 73.94, 68.08, 70.82, 80.1, 68.94, 87.05, 76.07, 69.15, 84.04, 73.02, 76.62, 71.12, 70.43, 73.02, 74.52, 77.76, 72.49, 69.19, 78.58, 70.59, 77.79, 68.27, 81.9, 91.88, 78.35, 79.62, 75.66, 69.84, 76.73, 84.77, 72.14]\n"
     ]
    }
   ],
   "source": [
    "# 17. Display the students who has higher score than the average in both subject\n",
    "avg = np.mean(B['score'])\n",
    "above = [i for i in scoreA if i > avg]\n",
    "print(above)"
   ]
  },
  {
   "cell_type": "code",
   "execution_count": 670,
   "id": "747759a1",
   "metadata": {},
   "outputs": [
    {
     "ename": "NameError",
     "evalue": "name 'A' is not defined",
     "output_type": "error",
     "traceback": [
      "\u001b[1;31m---------------------------------------------------------------------------\u001b[0m",
      "\u001b[1;31mNameError\u001b[0m                                 Traceback (most recent call last)",
      "Cell \u001b[1;32mIn[670], line 10\u001b[0m\n\u001b[0;32m      1\u001b[0m \u001b[38;5;66;03m# 18. Calculate the letter-grade from score of subject A and subject B, and display them where\u001b[39;00m\n\u001b[0;32m      2\u001b[0m \u001b[38;5;66;03m# A: Scores greater than 90.\u001b[39;00m\n\u001b[0;32m      3\u001b[0m \u001b[38;5;66;03m# B+: Scores between 81 and 90 (inclusive).\u001b[39;00m\n\u001b[1;32m   (...)\u001b[0m\n\u001b[0;32m      8\u001b[0m \u001b[38;5;66;03m# D: Scores between 50 and 55 (inclusive).\u001b[39;00m\n\u001b[0;32m      9\u001b[0m \u001b[38;5;66;03m# F: Scores less than 50.\u001b[39;00m\n\u001b[1;32m---> 10\u001b[0m scoreA \u001b[38;5;241m=\u001b[39m {row[\u001b[38;5;124m'\u001b[39m\u001b[38;5;124mid\u001b[39m\u001b[38;5;124m'\u001b[39m]: row[\u001b[38;5;124m'\u001b[39m\u001b[38;5;124mscore\u001b[39m\u001b[38;5;124m'\u001b[39m] \u001b[38;5;28;01mfor\u001b[39;00m row \u001b[38;5;129;01min\u001b[39;00m A}\n\u001b[0;32m     11\u001b[0m scoreB \u001b[38;5;241m=\u001b[39m {row[\u001b[38;5;124m'\u001b[39m\u001b[38;5;124mid\u001b[39m\u001b[38;5;124m'\u001b[39m]: row[\u001b[38;5;124m'\u001b[39m\u001b[38;5;124mscore\u001b[39m\u001b[38;5;124m'\u001b[39m] \u001b[38;5;28;01mfor\u001b[39;00m row \u001b[38;5;129;01min\u001b[39;00m B}\n\u001b[0;32m     12\u001b[0m scoreC \u001b[38;5;241m=\u001b[39m {\u001b[38;5;28mid\u001b[39m: (scoreA[\u001b[38;5;28mid\u001b[39m] \u001b[38;5;241m+\u001b[39m scoreB[\u001b[38;5;28mid\u001b[39m]) \u001b[38;5;241m/\u001b[39m \u001b[38;5;241m2\u001b[39m \u001b[38;5;28;01mfor\u001b[39;00m \u001b[38;5;28mid\u001b[39m \u001b[38;5;129;01min\u001b[39;00m scoreA \u001b[38;5;28;01mif\u001b[39;00m id_ \u001b[38;5;129;01min\u001b[39;00m scoreB}\n",
      "\u001b[1;31mNameError\u001b[0m: name 'A' is not defined"
     ]
    }
   ],
   "source": [
    "# 18. Calculate the letter-grade from score of subject A and subject B, and display them where\n",
    "# A: Scores greater than 90.\n",
    "# B+: Scores between 81 and 90 (inclusive).\n",
    "# B: Scores between 71 and 80 (inclusive).\n",
    "# C+: Scores between 66 and 70 (inclusive).\n",
    "# C: Scores between 61 and 65 (inclusive).\n",
    "# D+: Scores between 56 and 60 (inclusive).\n",
    "# D: Scores between 50 and 55 (inclusive).\n",
    "# F: Scores less than 50.\n",
    "def cal(s):\n",
    "    con = [\n",
    "        (s>=90),\n",
    "        (s>=81),\n",
    "        (s>=71),\n",
    "        (s>=66),\n",
    "        (s>=61),\n",
    "        (s>=56),\n",
    "        (s>=50),\n",
    "        (s<50)\n",
    "    ]\n",
    "    return con\n",
    "grade = ['A','B+','B','C+','C','D+','D','F']\n",
    "ans = np.select(subjectA['Score'],grade)"
   ]
  },
  {
   "cell_type": "markdown",
   "id": "e0fcc624",
   "metadata": {},
   "source": [
    "# Working with subjectA, subjectB.csv and subjectC.csv"
   ]
  },
  {
   "cell_type": "code",
   "execution_count": 647,
   "id": "a5b79cd2",
   "metadata": {},
   "outputs": [],
   "source": [
    "# 19. Load subjectC.csv files as numpy array\n",
    "subjectC = np.genfromtxt('subjectC.csv',delimiter=',',names=True,dtype=None,encoding='utf-8')"
   ]
  },
  {
   "cell_type": "code",
   "execution_count": 648,
   "id": "6ac2fb30",
   "metadata": {},
   "outputs": [
    {
     "name": "stdout",
     "output_type": "stream",
     "text": [
      "[(67070296, 'A') (67070291, 'A') (67070289, 'A') (67070195, 'A')\n",
      " (67070214, 'A') (67070219, 'A') (67070210, 'A') (67070022, 'A')\n",
      " (67070201, 'A') (67070270, 'A') (67070086, 'A') (65070068, 'A')\n",
      " (67070052, 'A') (67070047, 'A') (67070232, 'A') (67070265, 'A')\n",
      " (67070131, 'A') (67070096, 'A') (67070104, 'A') (67070113, 'A')\n",
      " (67070112, 'A') (67070127, 'A') (67070098, 'A') (67070135, 'A')\n",
      " (67070141, 'A') (67070116, 'A') (67070103, 'A') (67070185, 'A')\n",
      " (67070171, 'A') (67070288, 'A') (67070308, 'A') (67070178, 'A')\n",
      " (67070083, 'A') (67070080, 'A') (67070077, 'A') (67070168, 'A')\n",
      " (67070158, 'A') (67070290, 'B') (67070222, 'B') (67070004, 'B')\n",
      " (67070306, 'B') (67070257, 'B') (67070238, 'B') (67070063, 'B')\n",
      " (67070192, 'B+') (67070095, 'B+') (67070147, 'B+') (67070212, 'B+')\n",
      " (67070005, 'B+') (67070013, 'B+') (67070225, 'B+') (67070229, 'B+')\n",
      " (67070049, 'B+') (67070048, 'B+') (67070258, 'B+') (67070101, 'B+')\n",
      " (67070125, 'B+') (67070140, 'B+') (67070176, 'B+') (67070188, 'B+')\n",
      " (67070190, 'B+') (67070058, 'B+') (67070071, 'B+') (67070068, 'B+')\n",
      " (67070079, 'B+') (67070124, 'C') (67070028, 'C+') (67070307, 'C+')\n",
      " (67070035, 'D+')]\n"
     ]
    }
   ],
   "source": [
    "# 20. Display the array\n",
    "print(subjectC)"
   ]
  },
  {
   "cell_type": "code",
   "execution_count": 649,
   "id": "cdd61557",
   "metadata": {},
   "outputs": [],
   "source": [
    "# 21. Calculate the histogram of grade letter (8-bins) of subject C for male and female students"
   ]
  },
  {
   "cell_type": "code",
   "execution_count": 650,
   "id": "34e794b1",
   "metadata": {},
   "outputs": [],
   "source": [
    "# 22. Visualize the score histogram of subject C: male students"
   ]
  },
  {
   "cell_type": "code",
   "execution_count": 651,
   "id": "ed08b2dc",
   "metadata": {},
   "outputs": [],
   "source": [
    "# 23. Visualize the score histogram of subject C: female students"
   ]
  },
  {
   "cell_type": "code",
   "execution_count": 652,
   "id": "65123134",
   "metadata": {},
   "outputs": [],
   "source": [
    "# 24. Compute the GPA of each students and display student-id, name and GPA, sorted by student-id (increasing)\n",
    "# Where A=4.00, B+=3.50, B=3.00, C+=2.50, C=2.00, D+=1.50, D=1.00 and F=0"
   ]
  },
  {
   "cell_type": "markdown",
   "id": "f6722c8b",
   "metadata": {},
   "source": [
    "25. จากคะแนนของนักศึกษาทั้ง 3 วิชา ให้นศ. \n",
    "\n",
    "การวิเคราะห์และระบุลักษณะ:\n",
    "- วิเคราะห์ลักษณะของการกระจายคะแนนของแต่ละวิชา\n",
    "- สันนิษฐานประเภทของการกระจายคะแนน สำหรับแต่ละวิชาโดยอ้างอิงจากความรู้ที่มีเกี่ยวกับการกระจายคะแนน\n",
    "- อธิบายว่าการกระจายคะแนนเหล่านี้แสดงให้เห็นถึงอะไรบ้างเกี่ยวกับ:\n",
    "    - ระดับความยากของรายวิชา\n",
    "    - ประสิทธิภาพของการสอนหรือกลยุทธ์การประเมินผล\n",
    "    - ความพร้อมหรือการมีส่วนร่วมของนักเรียนในแต่ละวิชา\n",
    "\n",
    "การให้คำแนะนำ: จากการวิเคราะห์ของนศ. ให้คำแนะนำเฉพาะเจาะจงเพื่อปรับปรุงหรือเพิ่มประสิทธิภาพการเรียนการสอนและการประเมินผลสำหรับแต่ละวิชา พิจารณาในแง่ของ:\n",
    "- การปรับสมดุลระดับความยากของรายวิชา\n",
    "- การสนับสนุนนักเรียนที่อ่อนหรือเก่งในรายวิชา\n",
    "- การส่งเสริมแรงจูงใจ\n",
    "\n",
    "การสะท้อนความคิด: สะท้อนความคิดว่าทำไมการทำความเข้าใจการกระจายคะแนนจึงมีความสำคัญสำหรับครู และการวิเคราะห์นี้ช่วยในการออกแบบการสอนและการเรียนรู้ที่ดีขึ้นอย่างไร"
   ]
  },
  {
   "cell_type": "markdown",
   "metadata": {},
   "source": []
  }
 ],
 "metadata": {
  "kernelspec": {
   "display_name": "base",
   "language": "python",
   "name": "python3"
  },
  "language_info": {
   "codemirror_mode": {
    "name": "ipython",
    "version": 3
   },
   "file_extension": ".py",
   "mimetype": "text/x-python",
   "name": "python",
   "nbconvert_exporter": "python",
   "pygments_lexer": "ipython3",
   "version": "3.12.7"
  }
 },
 "nbformat": 4,
 "nbformat_minor": 5
}
