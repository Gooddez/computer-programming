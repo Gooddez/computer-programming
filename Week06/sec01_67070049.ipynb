{
 "cells": [
  {
   "cell_type": "code",
   "execution_count": 7,
   "metadata": {},
   "outputs": [
    {
     "name": "stdout",
     "output_type": "stream",
     "text": [
      "3.0\n"
     ]
    }
   ],
   "source": [
    "\"\"\"1\"\"\"\n",
    "def main(l):\n",
    "    return sum(map(int,l.split(\",\")))/len(l.split(\",\"))\n",
    "print(main(input()))\n"
   ]
  },
  {
   "cell_type": "code",
   "execution_count": null,
   "metadata": {},
   "outputs": [
    {
     "name": "stdout",
     "output_type": "stream",
     "text": [
      "12\n"
     ]
    }
   ],
   "source": [
    "\"\"\"2\"\"\"\n",
    "def main(l):\n",
    "    return sum([int(num) if int(num)>=0 else 0 for num in l.split(\",\")])\n",
    "print(main(input()))"
   ]
  },
  {
   "cell_type": "code",
   "execution_count": 27,
   "metadata": {},
   "outputs": [
    {
     "name": "stdout",
     "output_type": "stream",
     "text": [
      "a\n",
      "f\n",
      "s\n",
      "g\n",
      "d\n",
      "h\n",
      "a\n",
      "f\n",
      "s\n",
      "g\n",
      "d\n",
      "h\n"
     ]
    }
   ],
   "source": [
    "\"\"\"3\"\"\"\n",
    "def main(t1,t2):\n",
    "    if len(t1) == len(t2):\n",
    "        for i,j in zip(t1,t2):\n",
    "            print(i)\n",
    "            print(j)\n",
    "    else:\n",
    "        print(\"lenght not match.\")\n",
    "main(input(),input())"
   ]
  },
  {
   "cell_type": "code",
   "execution_count": null,
   "metadata": {},
   "outputs": [
    {
     "name": "stdout",
     "output_type": "stream",
     "text": [
      "hello\n"
     ]
    }
   ],
   "source": [
    "\"\"\"4\"\"\"\n",
    "def main(txt):\n",
    "    lst = list(map(len,txt.split()))\n",
    "    return txt.split()[lst.index(max(lst))]\n",
    "print(main(input()))"
   ]
  },
  {
   "cell_type": "code",
   "execution_count": null,
   "metadata": {},
   "outputs": [
    {
     "name": "stdout",
     "output_type": "stream",
     "text": [
      "144\n"
     ]
    }
   ],
   "source": [
    "\"\"\"5\"\"\"\n",
    "def main(n):\n",
    "    a = [0,1]\n",
    "    for _ in range(n-1):\n",
    "        a.append(a[-1] + a[-2])\n",
    "    return a[-1]\n",
    "print(main(int(input())))"
   ]
  },
  {
   "cell_type": "code",
   "execution_count": 5,
   "metadata": {},
   "outputs": [
    {
     "name": "stdout",
     "output_type": "stream",
     "text": [
      "1\n",
      "2\n",
      "3\n",
      "4\n",
      "5\n",
      "6\n"
     ]
    }
   ],
   "source": [
    "\"\"\"6\"\"\"\n",
    "def main(num):\n",
    "    for i in num.split():\n",
    "        if int(i) %7 == 0 or int(i) % 11 == 0:\n",
    "            break\n",
    "        print(i)\n",
    "main(input())"
   ]
  },
  {
   "cell_type": "code",
   "execution_count": 42,
   "metadata": {},
   "outputs": [
    {
     "name": "stdout",
     "output_type": "stream",
     "text": [
      "asd\n"
     ]
    }
   ],
   "source": [
    "\"\"\"7\"\"\"\n",
    "def main():\n",
    "    unicode = input()\n",
    "    prev = 0\n",
    "    while sum(map(ord,[a for a in unicode])) > prev:\n",
    "        print(unicode)\n",
    "        prev = sum(map(ord,[a for a in unicode]))\n",
    "        unicode = input()\n",
    "main()"
   ]
  },
  {
   "cell_type": "code",
   "execution_count": 4,
   "metadata": {},
   "outputs": [
    {
     "name": "stdout",
     "output_type": "stream",
     "text": [
      "20.0\n"
     ]
    }
   ],
   "source": [
    "\"\"\"8\"\"\"\n",
    "def main():\n",
    "    a = int(input())\n",
    "    lst = []\n",
    "    while a > 0 :\n",
    "        lst.append(a)\n",
    "        a = int(input())\n",
    "    return sum(lst)/len(lst)\n",
    "print(main())"
   ]
  },
  {
   "cell_type": "code",
   "execution_count": 8,
   "metadata": {},
   "outputs": [
    {
     "name": "stdout",
     "output_type": "stream",
     "text": [
      "{'a'}\n",
      "{'a'}\n",
      "{'a'}\n",
      "{'a'}\n",
      "{'a', 'o', 'i', 'u', 'e'}\n"
     ]
    }
   ],
   "source": [
    "\"\"\"9\"\"\"\n",
    "def main():\n",
    "    vocal = {'a','e','i','o','u'}\n",
    "    n_vocal = set()\n",
    "    while n_vocal != vocal:\n",
    "        a = input()\n",
    "        n_vocal = set()\n",
    "        for i in a:\n",
    "            if i in vocal:\n",
    "                n_vocal.add(i)\n",
    "        print(n_vocal)\n",
    "main()"
   ]
  },
  {
   "cell_type": "markdown",
   "metadata": {},
   "source": [
    "part2\n"
   ]
  },
  {
   "cell_type": "code",
   "execution_count": 63,
   "metadata": {},
   "outputs": [
    {
     "name": "stdout",
     "output_type": "stream",
     "text": [
      "[1, 1, 2, 2, 2, 3, 4, 5, 5, 5, 5]\n",
      "[5, 5, 5, 5, 4, 3, 2, 2, 2, 1, 1]\n",
      "[[1, 2], [2, 3], [3, 1], [4, 1], [5, 4]]\n",
      "[3, 4, 1, 2, 5]\n"
     ]
    }
   ],
   "source": [
    "n = input()\n",
    "\n",
    "#1\n",
    "lst = list(map(int,n.split(',')))\n",
    "\n",
    "#2\n",
    "b = lst.copy()\n",
    "b.sort\n",
    "print(b)\n",
    "\n",
    "#3\n",
    "b.sort(reverse=1)\n",
    "print(b)\n",
    "\n",
    "#4\n",
    "c = [[a,lst.count(a)] for a in set(lst)]\n",
    "print(c)\n",
    "\n",
    "#5\n",
    "c = [lst.count(a) for a in set(lst)]\n",
    "d = list(set(lst))\n",
    "c = list(c)\n",
    "ans = []\n",
    "while d:\n",
    "    e = c.index(min(c))\n",
    "    ans.append(d[e])\n",
    "    c.pop(e)\n",
    "    d.pop(e)\n",
    "print(ans)"
   ]
  },
  {
   "cell_type": "code",
   "execution_count": 68,
   "metadata": {},
   "outputs": [
    {
     "name": "stdout",
     "output_type": "stream",
     "text": [
      "['C', 'o', 'm', 'p', 'u', 't', 'e', 'r', ' ', 'p', 'r', 'o', 'g', 'r', 'a', 'm', 'm', 'i', 'n', 'g']\n",
      "[0, 1, 4, 9, 16, 25, 36, 49, 64, 81]\n",
      "[0, 2, 4, 6, 8]\n",
      "['T', 'i', 'a', 'p', 'c']\n",
      "[4, 2, 1, 11, 5]\n",
      "[['This', 4], ['is', 2], ['a', 1], ['programming', 11], ['class', 5]]\n",
      "[1, 81, 0, 16]\n",
      "['c', 'o', 'm', 'p', 'u', 't', 'e', 'r', 'p', 'r', 'o', 'g', 'r', 'a', 'm', 'm', 'i', 'n', 'g']\n",
      "[0, 12, 48, 108, 192, 300]\n"
     ]
    }
   ],
   "source": [
    "#6\n",
    "input_str = 'Computer programming'\n",
    "character = [a for a in input_str]\n",
    "print(character)\n",
    "\n",
    "#7\n",
    "result = [a**2 for a in range(10)]\n",
    "print(result)\n",
    "\n",
    "#8\n",
    "result = [a for a in range(0,10,2)]\n",
    "print(result)\n",
    "\n",
    "#9\n",
    "words = ['This','is','a','programming','class']\n",
    "character = [a[0] for a in words]\n",
    "print(character)\n",
    "\n",
    "#10\n",
    "num_char = [len(a) for a in words]\n",
    "print(num_char)\n",
    "\n",
    "#11\n",
    "result = [[a,len(a)] for a in words]\n",
    "print(result)\n",
    "\n",
    "#12\n",
    "input = [1,'4',9,'a',0,4,'words']\n",
    "result = [e**2 for e in input if type(e)==int]\n",
    "print(result)\n",
    "\n",
    "#13\n",
    "input = 'c!32o#@m3943p43507u786t=-+erp?34r)$(%o+=04gram2343298m+#)$ing'\n",
    "result = [ch for ch in input if ord('a')<=ord(ch)<=ord('z')]\n",
    "print(result)\n",
    "\n",
    "#14\n",
    "result = [(i**2)*3 for i in range(11) if (i**2)%2==0]\n",
    "print(result)"
   ]
  }
 ],
 "metadata": {
  "kernelspec": {
   "display_name": "base",
   "language": "python",
   "name": "python3"
  },
  "language_info": {
   "codemirror_mode": {
    "name": "ipython",
    "version": 3
   },
   "file_extension": ".py",
   "mimetype": "text/x-python",
   "name": "python",
   "nbconvert_exporter": "python",
   "pygments_lexer": "ipython3",
   "version": "3.12.4"
  }
 },
 "nbformat": 4,
 "nbformat_minor": 2
}
