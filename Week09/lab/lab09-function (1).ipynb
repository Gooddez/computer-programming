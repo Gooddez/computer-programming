{
 "cells": [
  {
   "cell_type": "markdown",
   "id": "3e57d5b2",
   "metadata": {},
   "source": [
    "0. Import Library"
   ]
  },
  {
   "cell_type": "code",
   "execution_count": 14,
   "id": "f6b507ce",
   "metadata": {},
   "outputs": [],
   "source": [
    "# Code Here"
   ]
  },
  {
   "cell_type": "markdown",
   "id": "8e8e0a31",
   "metadata": {},
   "source": [
    "1. จงสร้าง Function ชื่อ create_data() ซึ่งจะ Return x_train เป็นจำนวนเต็มจากการสุ่มในช่วง 0-100 ในรูปแบบ Matrix ขนาด nx2 และ y_train เป็นจำนวนเต็มจากการสุ่มโดยมีค่า 0, 1 ในรูปแบบ Matrix ขนาด n\n",
    "\n",
    "Ex. \n",
    "\n",
    "    create_data(5) \n",
    "        x_train = [[10, 20], [0, 100], [5, 8], [1, 2], [80, 56]]\n",
    "        y_train = [1, 0, 1, 1, 0]"
   ]
  },
  {
   "cell_type": "code",
   "execution_count": 4,
   "id": "4b23fc49",
   "metadata": {},
   "outputs": [],
   "source": [
    "def create_data():\n",
    "    # Code Here\n",
    "    pass\n",
    "\n",
    "    return x_train, y_train"
   ]
  },
  {
   "cell_type": "code",
   "execution_count": null,
   "id": "8665f182",
   "metadata": {},
   "outputs": [],
   "source": [
    "x_train, y_train = create_data(1000)"
   ]
  },
  {
   "cell_type": "markdown",
   "id": "72756dea",
   "metadata": {},
   "source": [
    "2. จงสร้าง Function plot_scatter() ซึ่งจะแสดงผล Scatter Plot จากข้อมูล Input ซึ่งจะมีสีของจุดแตกต่างกันตามค่าของ y_train โดยรับ Parameter 2 ค่า คือ x_train และ y_train ซึ่งเป็นชุดข้อมูลที่ได้จากการสุ่มในข้อที่ 1"
   ]
  },
  {
   "cell_type": "code",
   "execution_count": null,
   "id": "bceff4f0",
   "metadata": {},
   "outputs": [],
   "source": [
    "def plot_scatter():\n",
    "    #Code Here\n",
    "    pass"
   ]
  },
  {
   "cell_type": "code",
   "execution_count": null,
   "id": "a6982f5b",
   "metadata": {},
   "outputs": [],
   "source": [
    "plot_scatter(x_train, y_train)"
   ]
  },
  {
   "cell_type": "markdown",
   "id": "13128266",
   "metadata": {},
   "source": [
    "3. จงสร้าง Function ชื่อ cal_distance_manhattan() ซึ่งจะ Return ระยะห่างระหว่างข้อมูล Input และ ชุดข้อมูลจากข้อที่ 1 ในรูปแบบของ Matrix ขนาด 1xn ซึ่งคำนวณด้วยวิธี Manhattan Distance โดยรับ Parameter 3 ค่า คือ x1, x2 ซึ่งเป็นเลขจำนวนเต็มในช่วง 0-100 และ x_train ซึ่งเป็นชุดข้อมูลที่ได้จากการสุ่มในข้อที่\n",
    "\n",
    "Ex. \n",
    "\n",
    "    cal_distance_manhattan(1, 2, x_train) = [27, 99, 10, 0, 133]"
   ]
  },
  {
   "cell_type": "code",
   "execution_count": 5,
   "id": "03aa4b9f",
   "metadata": {},
   "outputs": [],
   "source": [
    "def cal_distance_manhattan():\n",
    "    #Code Here\n",
    "    pass\n",
    "\n",
    "    return distance"
   ]
  },
  {
   "cell_type": "code",
   "execution_count": null,
   "id": "99c7a0ad",
   "metadata": {},
   "outputs": [],
   "source": [
    "x_train_distance_manhattan = cal_distance_manhattan(5, 8, x_train)"
   ]
  },
  {
   "cell_type": "markdown",
   "id": "18e02f9d",
   "metadata": {},
   "source": [
    "4. จงสร้าง Function ชื่อ cal_distance_euclidean() ซึ่งจะ Return ระยะห่างระหว่างข้อมูล Input และ ชุดข้อมูลจากข้อที่ 1 ในรูปแบบของ Matrix \n",
    "ขนาด 1xn ซึ่งคำนวณด้วยวิธี Euclidean Distance โดยรับ Parameter 3 ค่า คือ x1, x2 ซึ่งเป็นเลขจำนวนเต็มในช่วง 0-100 และ x_train ซึ่งเป็นชุดข้อมูลที่ได้จากการสุ่มในข้อที่ 1\n",
    "\n",
    "Ex. \n",
    "\n",
    "    cal_distance_euclidean(1, 2, x_train) = [20.12461179749811, 98.00510190801293, 7.211102550927979, 0.0, 95.6922149]"
   ]
  },
  {
   "cell_type": "code",
   "execution_count": 12,
   "id": "03c41395",
   "metadata": {},
   "outputs": [],
   "source": [
    "def cal_distance_euclidean():\n",
    "    #Code Here\n",
    "    pass\n",
    "\n",
    "    return distance"
   ]
  },
  {
   "cell_type": "code",
   "execution_count": null,
   "id": "fe2c7b2b",
   "metadata": {},
   "outputs": [],
   "source": [
    "x_train_euclidean = cal_distance_euclidean(5, 8, x_train)"
   ]
  },
  {
   "cell_type": "markdown",
   "id": "f4526e05",
   "metadata": {},
   "source": [
    "5. จงสร้าง Function ชื่อ predict() ซึ่งจะ Return ค่า mode ของค่า y_train ที่ มีค่า distance น้อยที่สุดจำนวน n ตัว (ถ้ามีจำนวนเท่ากันให้เลือกค่าที่มี Frequency สูงที่สุด จาก y_train) โดยรับ Parameter 3 ค่า คือ distance ซึ่งเป็นค่าระยะห่างของจุด, y_train ซึ่งเป็นชุดข้อมูลที่ได้จากการสุ่มในข้อที่ 1 และ n_neighbor ซึ่งเป็นจำนวนค่า distance ที่เราจะพิจารณา (เรียงจากน้อยไปมาก)\n",
    "\n",
    "EX. \n",
    "\n",
    "    predict(x_train_distance_manhattan, y_train, n_neighbor=3) จะทำการเลือก distance ที่มีค่าน้อยที่สุดจำนวน 3 ตัว และนำค่า \n",
    "    y_train ที่ตำแหน่งเดียวกันกับ distance นั้นมาพิจารณา เช่น [27, 99, 10, 0, 133] จะพิจารณา ค่า y ของ distance 0, 10, 27 ซึ่งมีค่า \n",
    "    1, 1, 1 ดังนั้น ค่าที่ return จะมีค่า 1"
   ]
  },
  {
   "cell_type": "code",
   "execution_count": 13,
   "id": "73ece8eb",
   "metadata": {},
   "outputs": [],
   "source": [
    "def predict():\n",
    "    #Code Here\n",
    "    pass\n",
    "\n",
    "    return predict_class"
   ]
  },
  {
   "cell_type": "code",
   "execution_count": null,
   "id": "849b5c16",
   "metadata": {},
   "outputs": [],
   "source": [
    "print(predict(x_train_euclidean, y_train, n_neighbor=5))"
   ]
  },
  {
   "cell_type": "code",
   "execution_count": null,
   "id": "0dedb543",
   "metadata": {},
   "outputs": [],
   "source": [
    "print(predict(x_train_distance_manhattan, y_train, n_neighbor=5))"
   ]
  },
  {
   "cell_type": "markdown",
   "id": "219b3941",
   "metadata": {},
   "source": [
    "6. จงสร้างฟังก์ชันชื่อ fibonacci() ซึ่งรับค่าตัวเลข 1 ตัว และคืนค่าจำนวนฟีโบนัชชีของตัวเลขนำเข้าดังกล่าว โดยจำนวนฟีโบนัชชีนั้นมีนิยามของความสัมพันธ์ว่า จำนวนถัดไปเท่ากับผลบวกของจำนวนสองจำนวนก่อนหน้า และสองจำนวนแรกก็คือ 0 และ 1 ตามลำดับ และลำดับของจำนวนดังกล่าวก็จะเรียกว่า ลำดับฟีโบนัชชี โดยจำนวนฟีโบนัชชีนั้น จะเริ่มนับจาก 0, 1, 1, 2, 3, 5, 8, 13, 21, 34, 55, 89, ...\n",
    "\n",
    "    จำนวน Fibonacci นั้น มีนิยามดังนี้\n",
    "        F(0) = 0\n",
    "        F(1) = 1\n",
    "        F(n) = F(n - 1) + F(n - 2)\n",
    "        \n",
    "*** คะแนนพิเศษเพิ่มเติม สำหรับนศ.ที่ไม่ใช้ loop ภายในฟังก์ชัน"
   ]
  },
  {
   "cell_type": "code",
   "execution_count": null,
   "id": "ef3496a5",
   "metadata": {},
   "outputs": [],
   "source": [
    "def fibonacci(n):\n",
    "    #Code Here\n",
    "    pass\n",
    "\n",
    "    return fibo"
   ]
  },
  {
   "cell_type": "code",
   "execution_count": null,
   "id": "13271514",
   "metadata": {},
   "outputs": [],
   "source": [
    "print(fibonacci(10))"
   ]
  },
  {
   "cell_type": "markdown",
   "id": "4be163c8",
   "metadata": {},
   "source": [
    "7. จงสร้างฟังก์ชัน factorial() ซึ่งรับค่าตัวเลข 1 ตัว และคืนค่าจำนวนแฟคทอเรียลของตัวเลขนำเข้าดังกล่าว \n",
    "    \n",
    "    โดยนิยามของ factorial คือ\n",
    "        0! = 1\n",
    "        n! = n * (n - 1)!\n",
    "        \n",
    "*** คะแนนพิเศษเพิ่มเติม สำหรับนศ.ที่ไม่ใช้ loop ภายในฟังก์ชัน"
   ]
  },
  {
   "cell_type": "code",
   "execution_count": 2,
   "id": "c5823bc5",
   "metadata": {},
   "outputs": [],
   "source": [
    "def factorial(n):\n",
    "    #Code Here\n",
    "    pass\n",
    "\n",
    "    return fac"
   ]
  },
  {
   "cell_type": "code",
   "execution_count": null,
   "id": "e26934d9",
   "metadata": {},
   "outputs": [],
   "source": [
    "print(fibonacci(12))"
   ]
  },
  {
   "cell_type": "markdown",
   "id": "39a762ff",
   "metadata": {},
   "source": [
    "8. ในการทอนเงินให้กับลูกค้าแต่ละครั้ง เงินจำนวนเท่ากันสามารถมีวิธีการทอนเงินด้วยเหรียญได้หลายแบบ เช่น เงินทอนจำนวน 15 บาท สามารถทอนได้ดังนี้\n",
    "        เหรียญ 10 บาทจำนวน 1 เหรียญ และ เหรียญ 5 บาทจำนวน 1 เหรียญ\n",
    "        เหรียญ 10 บาทจำนวน 1 เหรียญ, เหรียญ 2 บาทจำนวน 2 เหรียญ, เหรียญ 1 บาทจำนวน 1 เหรียญ\n",
    "        เหรียญ 5 บาทจำนวน 3 เหรียญ ฯลฯ\n",
    "        \n",
    "        โดยการทอนเงินแต่ล่ะวิธี จะมีจำนวนเหรียญรวมแตกต่างกัน เพื่อเป็นการอำนวยความสะดวกแก่ลูกค้า จงเขียนฟังก์ชัน exchange() ที่รับจำนวนเงินที่ต้องทอนและคืนค่าผลลัพธ์เป็นวิธีทอนเงินที่มีจำนวนเหรียญรวมน้อยที่สุด โดยเหรียญที่สามารถใช้ทอนเงินได้มีค่าดังต่อไปนี้ 10 บาท, 5 บาท, 2 บาท, 1 บาท, 0.5 บาท (50 สตางค์) และ 0.25 บาท (25 สตางค์)\n",
    "        ตัวอย่างข้มูลนำเข้า: จำนวนเงินที่ต้องทอน เช่น 10.25 บาท, 6.75 บาท หรือ 3 บาท\n",
    "        ตัวอย่างผลลัพธ์: วิธีการทอนเงินที่มีจำนวนเหรียญรวมน้อยที่สุด เช่น (10x1)+(0.25x1), (5x1)+(1x1)+(0.5x1)+(0.25x1) หรือ (2x1)+(1x1) ตามลำดับ"
   ]
  },
  {
   "cell_type": "code",
   "execution_count": 1,
   "id": "dd463f57",
   "metadata": {},
   "outputs": [],
   "source": [
    "def exchange(money):\n",
    "    #Code Here\n",
    "    pass"
   ]
  },
  {
   "cell_type": "code",
   "execution_count": null,
   "id": "e526b22c",
   "metadata": {},
   "outputs": [],
   "source": [
    "exchange(24.25)"
   ]
  }
 ],
 "metadata": {
  "kernelspec": {
   "display_name": "Python 3 (ipykernel)",
   "language": "python",
   "name": "python3"
  },
  "language_info": {
   "codemirror_mode": {
    "name": "ipython",
    "version": 3
   },
   "file_extension": ".py",
   "mimetype": "text/x-python",
   "name": "python",
   "nbconvert_exporter": "python",
   "pygments_lexer": "ipython3",
   "version": "3.10.2"
  }
 },
 "nbformat": 4,
 "nbformat_minor": 5
}
