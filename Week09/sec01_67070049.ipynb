{
 "cells": [
  {
   "cell_type": "markdown",
   "metadata": {},
   "source": [
    "1."
   ]
  },
  {
   "cell_type": "code",
   "execution_count": null,
   "metadata": {},
   "outputs": [
    {
     "name": "stdout",
     "output_type": "stream",
     "text": [
      "gNatta\n",
      "dhaugc028\n"
     ]
    }
   ],
   "source": [
    "import random\n",
    "def create_uname(name,surename):\n",
    "    username = name[0].lower() + surename[:5].capitalize()\n",
    "    return username\n",
    "\n",
    "def create_password(name, surename):\n",
    "    all = list(name+surename)\n",
    "    num = [f'{i}' for i in range(10)]\n",
    "    random.shuffle(num)\n",
    "    random.shuffle(all)\n",
    "    password = ''.join(all)[:6] + ''.join(num)[:3]\n",
    "    return password\n",
    "\n",
    "def main(name,surename):\n",
    "    username = create_uname(name, surename)\n",
    "    password = create_password(name, surename)\n",
    "    print(username)\n",
    "    print(password)\n",
    "main(input(), input())\n"
   ]
  },
  {
   "cell_type": "markdown",
   "metadata": {},
   "source": [
    "2."
   ]
  },
  {
   "cell_type": "code",
   "execution_count": 14,
   "metadata": {},
   "outputs": [
    {
     "name": "stdout",
     "output_type": "stream",
     "text": [
      "32000.0\n"
     ]
    }
   ],
   "source": [
    "def main(stipend, rate, bonus):\n",
    "    new = new_stipend(stipend, rate, bonus)\n",
    "    print(new)\n",
    "\n",
    "def new_stipend(stipend, rate, bonus):\n",
    "    return stipend + (stipend*(rate/100)) + bonus\n",
    "\n",
    "main(int(input()), float(input()), int(input()))\n"
   ]
  },
  {
   "cell_type": "markdown",
   "metadata": {},
   "source": [
    "3."
   ]
  },
  {
   "cell_type": "code",
   "execution_count": 16,
   "metadata": {},
   "outputs": [
    {
     "name": "stdout",
     "output_type": "stream",
     "text": [
      "[16000.0, 36500.0]\n"
     ]
    }
   ],
   "source": [
    "def main(stripend, rate, bonus):\n",
    "    print(new_stipend(stripend, rate, bonus))\n",
    "\n",
    "def new_stipend(stripend, rate, bonus):\n",
    "    new = []\n",
    "    for i,j in zip(stripend, rate):\n",
    "        \n",
    "        new.append(int(i) + (int(i)*(int(j)/100)) + bonus)\n",
    "    return new\n",
    "\n",
    "main(input().split(','), input().split(','), int(input()))\n"
   ]
  },
  {
   "cell_type": "markdown",
   "metadata": {},
   "source": [
    "4."
   ]
  },
  {
   "cell_type": "code",
   "execution_count": 18,
   "metadata": {},
   "outputs": [
    {
     "name": "stdout",
     "output_type": "stream",
     "text": [
      "3.141592653589793\n",
      "6.283185307179586\n"
     ]
    }
   ],
   "source": [
    "import math\n",
    "def main(radius):\n",
    "    print(cal_area(radius))\n",
    "    print(cal_circumference(radius))\n",
    "\n",
    "def cal_area(rad):\n",
    "    area = math.pi * rad ** 2\n",
    "    return area\n",
    "\n",
    "def cal_circumference(r):\n",
    "    circumference = 2 * math.pi * r\n",
    "    return circumference\n",
    "\n",
    "main(float(input()))"
   ]
  },
  {
   "cell_type": "markdown",
   "metadata": {},
   "source": [
    "5.\n"
   ]
  },
  {
   "cell_type": "code",
   "execution_count": 24,
   "metadata": {},
   "outputs": [
    {
     "name": "stdout",
     "output_type": "stream",
     "text": [
      "[2, 3, 5, 7, 11, 13, 17, 19, 23, 29]\n"
     ]
    }
   ],
   "source": [
    "import math\n",
    "def main(n):\n",
    "    con = []\n",
    "    for i in range(2,n+1):\n",
    "        if is_prime(i):\n",
    "            con.append(i)\n",
    "    print(con)\n",
    "\n",
    "def is_prime(n):\n",
    "    for i in range(2,int(math.sqrt(n))+1):\n",
    "        if not n % i:\n",
    "            return False\n",
    "    return True\n",
    "\n",
    "main(int(input()))"
   ]
  }
 ],
 "metadata": {
  "kernelspec": {
   "display_name": "base",
   "language": "python",
   "name": "python3"
  },
  "language_info": {
   "codemirror_mode": {
    "name": "ipython",
    "version": 3
   },
   "file_extension": ".py",
   "mimetype": "text/x-python",
   "name": "python",
   "nbconvert_exporter": "python",
   "pygments_lexer": "ipython3",
   "version": "3.12.7"
  }
 },
 "nbformat": 4,
 "nbformat_minor": 2
}
