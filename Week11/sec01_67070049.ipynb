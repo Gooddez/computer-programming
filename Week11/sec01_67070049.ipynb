{
 "cells": [
  {
   "cell_type": "code",
   "execution_count": 43,
   "metadata": {},
   "outputs": [
    {
     "name": "stdout",
     "output_type": "stream",
     "text": [
      "Python Programming by John Smith\n",
      "Price: 99.00 baht\n",
      "Keywords: ['Computer', 'Programming', 'Python']\n"
     ]
    }
   ],
   "source": [
    "from book import book\n",
    "b1 = book('Python Programming','John Smith', 99, ['programming', 'python', 'computer'])\n",
    "b2 = book('Python Programming','John Smith', 150, ['programming', 'python', 'computer'])\n",
    "b3 = book('Python Programming','John Smith', 150, ['programming', 'python', 'computer'])\n",
    "print(b1)"
   ]
  },
  {
   "cell_type": "code",
   "execution_count": 44,
   "metadata": {},
   "outputs": [],
   "source": [
    "class ShoppongCart:\n",
    "    def __init__(self,id):\n",
    "        self.id = id\n",
    "        self.book = []\n",
    "        \n",
    "    def add_book(self, book_obj, n):\n",
    "        if book_obj in [x[0] for x in self.book]:\n",
    "            self.book[[x[0] for x in self.book].index(book_obj)][1] += n\n",
    "        else:\n",
    "            self.book.append([book_obj,n])\n",
    "            \n",
    "    def delete_book(self,book_obj):\n",
    "        for i,j in enumerate(self.book):\n",
    "            if book_obj in j:\n",
    "                self.book.pop(i)\n",
    "                \n",
    "    def get_total(self):\n",
    "        price = 0\n",
    "        for i in self.book:\n",
    "            price += i[1] * i[0].price\n",
    "        return price\n"
   ]
  },
  {
   "cell_type": "code",
   "execution_count": 45,
   "metadata": {},
   "outputs": [
    {
     "name": "stdout",
     "output_type": "stream",
     "text": [
      "[[<book.book object at 0x0000020127E93BF0>, 4], [<book.book object at 0x0000020128C7C140>, 2], [<book.book object at 0x0000020128C7C3E0>, 3]]\n",
      "[[<book.book object at 0x0000020128C7C140>, 2], [<book.book object at 0x0000020128C7C3E0>, 3]]\n"
     ]
    },
    {
     "data": {
      "text/plain": [
       "750"
      ]
     },
     "execution_count": 45,
     "metadata": {},
     "output_type": "execute_result"
    }
   ],
   "source": [
    "cart = ShoppongCart(1)\n",
    "cart.add_book(b1,2)\n",
    "cart.add_book(b2,2)\n",
    "cart.add_book(b3,3)\n",
    "cart.add_book(b1,2)\n",
    "print(cart.book)\n",
    "cart.delete_book(b1)\n",
    "print(cart.book)\n",
    "cart.get_total()"
   ]
  }
 ],
 "metadata": {
  "kernelspec": {
   "display_name": "base",
   "language": "python",
   "name": "python3"
  },
  "language_info": {
   "codemirror_mode": {
    "name": "ipython",
    "version": 3
   },
   "file_extension": ".py",
   "mimetype": "text/x-python",
   "name": "python",
   "nbconvert_exporter": "python",
   "pygments_lexer": "ipython3",
   "version": "3.12.7"
  }
 },
 "nbformat": 4,
 "nbformat_minor": 2
}
