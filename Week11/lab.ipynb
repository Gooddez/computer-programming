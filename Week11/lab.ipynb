{
 "cells": [
  {
   "cell_type": "code",
   "execution_count": 6,
   "metadata": {},
   "outputs": [],
   "source": [
    "import math"
   ]
  },
  {
   "cell_type": "code",
   "execution_count": 13,
   "metadata": {},
   "outputs": [
    {
     "name": "stdout",
     "output_type": "stream",
     "text": [
      "Object: Equilaterala triangle\n",
      "Side length: 2 cm\n",
      "Area: 1.73 cm²\n",
      "Perimeter: 6\n",
      "Object: Equilaterala triangle\n",
      "Side length: 3 cm\n",
      "Area: 3.90 cm²\n",
      "Perimeter: 9\n",
      "True\n"
     ]
    }
   ],
   "source": [
    "class Triangle:\n",
    "    def __init__(self, length):\n",
    "        self.length = length\n",
    "        self.area = (math.sqrt(3) / 4)*(self.length**2)\n",
    "        self.perimeter = self.length * 3\n",
    "    def calarea(self):\n",
    "        return self.area\n",
    "    def calPerimeter(self):\n",
    "        return self.perimeter\n",
    "    def __str__(self):\n",
    "        obj = 'Object: Equilaterala triangle\\n'\n",
    "        side = f'Side length: {self.length} cm\\n'\n",
    "        area = f'Area: {self.area:.2f} cm\\u00B2\\n'\n",
    "        perimeter = f'Perimeter: {self.perimeter}'\n",
    "        return obj + side + area + perimeter\n",
    "    def __lt__(self, triangle1):\n",
    "        return self.area < triangle1.area\n",
    "obj_1 = Triangle(2)\n",
    "obj_2 = Triangle(3)\n",
    "print(obj_1)\n",
    "print(obj_2)\n",
    "print(obj_2 > obj_1)"
   ]
  }
 ],
 "metadata": {
  "kernelspec": {
   "display_name": "base",
   "language": "python",
   "name": "python3"
  },
  "language_info": {
   "codemirror_mode": {
    "name": "ipython",
    "version": 3
   },
   "file_extension": ".py",
   "mimetype": "text/x-python",
   "name": "python",
   "nbconvert_exporter": "python",
   "pygments_lexer": "ipython3",
   "version": "3.12.7"
  }
 },
 "nbformat": 4,
 "nbformat_minor": 2
}
